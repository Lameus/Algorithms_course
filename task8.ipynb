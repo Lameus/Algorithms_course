{
 "cells": [
  {
   "cell_type": "code",
   "execution_count": 1,
   "metadata": {},
   "outputs": [],
   "source": [
    "from time import time\n",
    "import numpy as np\n",
    "import matplotlib.pyplot as plt"
   ]
  },
  {
   "cell_type": "markdown",
   "metadata": {},
   "source": [
    "### The maximum subarray"
   ]
  },
  {
   "cell_type": "code",
   "execution_count": 2,
   "metadata": {},
   "outputs": [],
   "source": [
    "A = [13, -3, -25, 20, -3, -16, -23, 18, 20, -7, 12, -5, -22, 16, -4, 7]"
   ]
  },
  {
   "cell_type": "code",
   "execution_count": 3,
   "metadata": {},
   "outputs": [],
   "source": [
    "num_iter = 0\n",
    "num_func = 0"
   ]
  },
  {
   "cell_type": "code",
   "execution_count": 4,
   "metadata": {},
   "outputs": [],
   "source": [
    "def maxCrossingSum(arr, l, m, h):\n",
    "    global num_func\n",
    "    global num_iter\n",
    "\n",
    "    num_func += 1\n",
    "    # Include elements on left of mid.\n",
    "    sm = 0\n",
    "    left_sum = -10000\n",
    " \n",
    "    for i in range(m, l-1, -1):\n",
    "        sm = sm + arr[i]\n",
    " \n",
    "        if (sm > left_sum):\n",
    "            left_sum = sm\n",
    "            max_left = i\n",
    "        num_iter += 1\n",
    "    # Include elements on right of mid\n",
    "    sm = 0\n",
    "    right_sum = -1000\n",
    "    for i in range(m + 1, h + 1):\n",
    "        sm = sm + arr[i]\n",
    " \n",
    "        if (sm > right_sum):\n",
    "            right_sum = sm\n",
    "            max_right = i\n",
    "\n",
    "        num_iter += 1\n",
    "    # Return sum of elements on left and right of mid\n",
    "    # returning only left_sum + right_sum will fail for [-2, 1]\n",
    "    print('Current interval: ', max_left, '-', max_right)\n",
    "    return max(left_sum + right_sum, left_sum, right_sum)\n",
    " \n",
    " \n",
    "# Returns sum of maximum sum subarray in aa[l..h]\n",
    "def maxSubArraySum(arr, l, h):\n",
    "    global num_func\n",
    "    global num_iter\n",
    "    num_func += 1\n",
    "\n",
    "    # Base Case: Only one element\n",
    "    if (l == h):\n",
    "        return arr[l]\n",
    " \n",
    "    # Find middle point\n",
    "    m = (l + h) // 2\n",
    "    print('Current interval: ', l, m)\n",
    "\n",
    "    num_iter += 1\n",
    "    return max(maxSubArraySum(arr, l, m),\n",
    "               maxSubArraySum(arr, m+1, h),\n",
    "               maxCrossingSum(arr, l, m, h))"
   ]
  },
  {
   "cell_type": "code",
   "execution_count": null,
   "metadata": {},
   "outputs": [],
   "source": []
  },
  {
   "cell_type": "code",
   "execution_count": 5,
   "metadata": {},
   "outputs": [
    {
     "name": "stdout",
     "output_type": "stream",
     "text": [
      "Current interval:  0 7\n",
      "Current interval:  0 3\n",
      "Current interval:  0 1\n",
      "Current interval:  0 0\n",
      "Current interval:  0 - 1\n",
      "Current interval:  2 2\n",
      "Current interval:  2 - 3\n",
      "Current interval:  0 - 3\n",
      "Current interval:  4 5\n",
      "Current interval:  4 4\n",
      "Current interval:  4 - 5\n",
      "Current interval:  6 6\n",
      "Current interval:  6 - 7\n",
      "Current interval:  5 - 7\n",
      "Current interval:  3 - 4\n",
      "Current interval:  8 11\n",
      "Current interval:  8 9\n",
      "Current interval:  8 8\n",
      "Current interval:  8 - 9\n",
      "Current interval:  10 10\n",
      "Current interval:  10 - 11\n",
      "Current interval:  8 - 10\n",
      "Current interval:  12 13\n",
      "Current interval:  12 12\n",
      "Current interval:  12 - 13\n",
      "Current interval:  14 14\n",
      "Current interval:  14 - 15\n",
      "Current interval:  13 - 15\n",
      "Current interval:  8 - 15\n",
      "Current interval:  7 - 10\n"
     ]
    },
    {
     "data": {
      "text/plain": [
       "43"
      ]
     },
     "execution_count": 5,
     "metadata": {},
     "output_type": "execute_result"
    }
   ],
   "source": [
    "maxSubArraySum(A, 0, len(A)-1)"
   ]
  },
  {
   "cell_type": "code",
   "execution_count": 6,
   "metadata": {},
   "outputs": [
    {
     "data": {
      "text/plain": [
       "(79, 46)"
      ]
     },
     "execution_count": 6,
     "metadata": {},
     "output_type": "execute_result"
    }
   ],
   "source": [
    "num_iter, num_func"
   ]
  },
  {
   "cell_type": "markdown",
   "metadata": {},
   "source": [
    "Evaluate time"
   ]
  },
  {
   "cell_type": "code",
   "execution_count": 7,
   "metadata": {},
   "outputs": [],
   "source": [
    "# function without printing\n",
    "def maxCrossingSum(arr, l, m, h):\n",
    "    global num_func\n",
    "    global num_iter\n",
    "\n",
    "    num_func += 1\n",
    "    # Include elements on left of mid.\n",
    "    sm = 0\n",
    "    left_sum = -10000\n",
    " \n",
    "    for i in range(m, l-1, -1):\n",
    "        sm = sm + arr[i]\n",
    " \n",
    "        if (sm > left_sum):\n",
    "            left_sum = sm\n",
    "            max_left = i\n",
    "        num_iter += 1\n",
    "    # Include elements on right of mid\n",
    "    sm = 0\n",
    "    right_sum = -1000\n",
    "    for i in range(m + 1, h + 1):\n",
    "        sm = sm + arr[i]\n",
    " \n",
    "        if (sm > right_sum):\n",
    "            right_sum = sm\n",
    "            max_right = i\n",
    "\n",
    "        num_iter += 1\n",
    "    # Return sum of elements on left and right of mid\n",
    "    # returning only left_sum + right_sum will fail for [-2, 1]\n",
    "    return max(left_sum + right_sum, left_sum, right_sum)\n",
    " \n",
    " \n",
    "# Returns sum of maximum sum subarray in aa[l..h]\n",
    "def maxSubArraySum(arr, l, h):\n",
    "    global num_func\n",
    "    global num_iter\n",
    "    num_func += 1\n",
    "\n",
    "    # Base Case: Only one element\n",
    "    if (l == h):\n",
    "        return arr[l]\n",
    " \n",
    "    # Find middle point\n",
    "    m = (l + h) // 2\n",
    "    num_iter += 1\n",
    "    return max(maxSubArraySum(arr, l, m),\n",
    "               maxSubArraySum(arr, m+1, h),\n",
    "               maxCrossingSum(arr, l, m, h))"
   ]
  },
  {
   "cell_type": "code",
   "execution_count": 8,
   "metadata": {},
   "outputs": [],
   "source": [
    "times = []\n",
    "iters = []"
   ]
  },
  {
   "cell_type": "code",
   "execution_count": 9,
   "metadata": {},
   "outputs": [],
   "source": [
    "for i in range(1, 1000):\n",
    "    num_iter = 0\n",
    "    num_func = 0\n",
    "    A = np.random.randint(-100, 100, i)\n",
    "    start = time()\n",
    "    b = maxSubArraySum(A, 0, len(A)-1)\n",
    "    times.append(time() - start)\n",
    "    iters.append(num_iter)"
   ]
  },
  {
   "cell_type": "code",
   "execution_count": 10,
   "metadata": {},
   "outputs": [
    {
     "data": {
      "text/plain": [
       "[<matplotlib.lines.Line2D at 0x16ea80fc760>]"
      ]
     },
     "execution_count": 10,
     "metadata": {},
     "output_type": "execute_result"
    },
    {
     "data": {
      "image/png": "[encoded data removed]",
      "text/plain": [
       "<Figure size 432x288 with 1 Axes>"
      ]
     },
     "metadata": {
      "needs_background": "light"
     },
     "output_type": "display_data"
    }
   ],
   "source": [
    "plt.plot(np.arange(1, 1000), iters)"
   ]
  },
  {
   "cell_type": "code",
   "execution_count": 11,
   "metadata": {},
   "outputs": [
    {
     "data": {
      "text/plain": [
       "[<matplotlib.lines.Line2D at 0x16eaa1dd1f0>]"
      ]
     },
     "execution_count": 11,
     "metadata": {},
     "output_type": "execute_result"
    },
    {
     "data": {
      "image/png": "[encoded data removed]",
      "text/plain": [
       "<Figure size 432x288 with 1 Axes>"
      ]
     },
     "metadata": {
      "needs_background": "light"
     },
     "output_type": "display_data"
    }
   ],
   "source": [
    "plt.plot(np.arange(1, 1000), times)"
   ]
  },
  {
   "cell_type": "markdown",
   "metadata": {},
   "source": [
    "### Optimal binary search trees"
   ]
  },
  {
   "cell_type": "code",
   "execution_count": 12,
   "metadata": {},
   "outputs": [],
   "source": [
    "import sys\n",
    "from random import randint\n",
    "\n",
    "\n",
    "class Node:\n",
    "    \"\"\"Binary Search Tree Node\"\"\"\n",
    "\n",
    "    def __init__(self, key, freq):\n",
    "        self.key = key\n",
    "        self.freq = freq\n",
    "\n",
    "    def __str__(self):\n",
    "        \"\"\"\n",
    "        >>> str(Node(1, 2))\n",
    "        'Node(key=1, freq=2)'\n",
    "        \"\"\"\n",
    "        return f\"Node(key={self.key}, freq={self.freq})\"\n",
    "\n",
    "\n",
    "def print_binary_search_tree(root, key, i, j, parent, is_left):\n",
    "\n",
    "    if i > j or i < 0 or j > len(root) - 1:\n",
    "        return\n",
    "\n",
    "    node = root[i][j]\n",
    "    if parent == -1:  # root does not have a parent\n",
    "        print(f\"{key[node]} is the root of the binary search tree.\")\n",
    "    elif is_left:\n",
    "        print(f\"{key[node]} is the left child of key {parent}.\")\n",
    "    else:\n",
    "        print(f\"{key[node]} is the right child of key {parent}.\")\n",
    "\n",
    "    print_binary_search_tree(root, key, i, node - 1, key[node], True)\n",
    "    print_binary_search_tree(root, key, node + 1, j, key[node], False)\n",
    "\n",
    "\n",
    "def find_optimal_binary_search_tree(nodes):\n",
    "    \n",
    "    # Tree nodes must be sorted first, the code below sorts the keys in \n",
    "    # increasing order and rearrange its frequencies accordingly.\n",
    "    nodes.sort(key=lambda node: node.key)\n",
    "\n",
    "    n = len(nodes)\n",
    "\n",
    "    keys = [nodes[i].key for i in range(n)]\n",
    "    freqs = [nodes[i].freq for i in range(n)]\n",
    "\n",
    "    # for a single key, cost is equal to frequency of the key.\n",
    "    dp = [[freqs[i] if i == j else 0 for j in range(n)] for i in range(n)]\n",
    "\n",
    "    sum = [[freqs[i] if i == j else 0 for j in range(n)] for i in range(n)]\n",
    "    # stores tree roots that will be used later for constructing binary search tree\n",
    "    root = [[i if i == j else 0 for j in range(n)] for i in range(n)]\n",
    "\n",
    "    for interval_length in range(2, n + 1):\n",
    "        for i in range(n - interval_length + 1):\n",
    "            j = i + interval_length - 1\n",
    "\n",
    "            dp[i][j] = sys.maxsize  # set the value to \"infinity\"\n",
    "            sum[i][j] = sum[i][j - 1] + freqs[j]\n",
    "\n",
    "            for r in range(root[i][j - 1], root[i + 1][j] + 1):  # r is a temporal root\n",
    "                left = dp[i][r - 1] if r != i else 0  # optimal cost for left subtree\n",
    "                right = dp[r + 1][j] if r != j else 0  # optimal cost for right subtree\n",
    "                cost = left + sum[i][j] + right\n",
    "\n",
    "                if dp[i][j] > cost:\n",
    "                    dp[i][j] = cost\n",
    "                    root[i][j] = r\n",
    "\n",
    "    print(\"Binary search tree nodes:\")\n",
    "    for node in nodes:\n",
    "        print(node)\n",
    "\n",
    "    print(f\"\\nThe cost of optimal BST for given tree nodes is {dp[0][n - 1]}.\")\n",
    "    print_binary_search_tree(root, keys, 0, n - 1, -1, False)\n",
    "\n"
   ]
  },
  {
   "cell_type": "code",
   "execution_count": 13,
   "metadata": {},
   "outputs": [
    {
     "name": "stdout",
     "output_type": "stream",
     "text": [
      "Binary search tree nodes:\n",
      "Node(key=1, freq=17)\n",
      "Node(key=2, freq=39)\n",
      "Node(key=3, freq=33)\n",
      "Node(key=4, freq=38)\n",
      "Node(key=5, freq=38)\n",
      "Node(key=6, freq=25)\n",
      "Node(key=7, freq=41)\n",
      "Node(key=8, freq=35)\n",
      "Node(key=9, freq=34)\n",
      "Node(key=10, freq=5)\n",
      "\n",
      "The cost of optimal BST for given tree nodes is 818.\n",
      "5 is the root of the binary search tree.\n",
      "3 is the left child of key 5.\n",
      "2 is the left child of key 3.\n",
      "1 is the left child of key 2.\n",
      "4 is the right child of key 3.\n",
      "8 is the right child of key 5.\n",
      "7 is the left child of key 8.\n",
      "6 is the left child of key 7.\n",
      "9 is the right child of key 8.\n",
      "10 is the right child of key 9.\n"
     ]
    }
   ],
   "source": [
    "# A sample binary search tree\n",
    "nodes = [Node(i, randint(1, 50)) for i in range(10, 0, -1)]\n",
    "find_optimal_binary_search_tree(nodes)\n"
   ]
  },
  {
   "cell_type": "markdown",
   "metadata": {},
   "source": [
    "Without print"
   ]
  },
  {
   "cell_type": "code",
   "execution_count": 14,
   "metadata": {},
   "outputs": [],
   "source": [
    "def optimal_BTS(nodes):\n",
    "    num_iter = 0\n",
    "\n",
    "    nodes.sort(key=lambda node: node.key)\n",
    "\n",
    "    n = len(nodes)\n",
    "\n",
    "    keys = [nodes[i].key for i in range(n)]\n",
    "    freqs = [nodes[i].freq for i in range(n)]\n",
    "\n",
    "    dp = [[freqs[i] if i == j else 0 for j in range(n)] for i in range(n)]\n",
    "\n",
    "    sum = [[freqs[i] if i == j else 0 for j in range(n)] for i in range(n)]\n",
    "\n",
    "    root = [[i if i == j else 0 for j in range(n)] for i in range(n)]\n",
    "\n",
    "    for interval_length in range(2, n + 1):\n",
    "        for i in range(n - interval_length + 1):\n",
    "            j = i + interval_length - 1\n",
    "\n",
    "            dp[i][j] = sys.maxsize  # set the value to \"infinity\"\n",
    "            sum[i][j] = sum[i][j - 1] + freqs[j]\n",
    "\n",
    "            for r in range(root[i][j - 1], root[i + 1][j] + 1):  # r is a temporal root\n",
    "                left = dp[i][r - 1] if r != i else 0  # optimal cost for left subtree\n",
    "                right = dp[r + 1][j] if r != j else 0  # optimal cost for right subtree\n",
    "                cost = left + sum[i][j] + right\n",
    "\n",
    "                if dp[i][j] > cost:\n",
    "                    dp[i][j] = cost\n",
    "                    root[i][j] = r\n",
    "                num_iter += 1\n",
    "    return num_iter"
   ]
  },
  {
   "cell_type": "code",
   "execution_count": 15,
   "metadata": {},
   "outputs": [
    {
     "name": "stdout",
     "output_type": "stream",
     "text": [
      "Binary search tree nodes:\n",
      "Node(key=1, freq=7)\n",
      "Node(key=2, freq=21)\n",
      "Node(key=3, freq=25)\n",
      "Node(key=4, freq=15)\n",
      "Node(key=5, freq=38)\n",
      "Node(key=6, freq=33)\n",
      "Node(key=7, freq=20)\n",
      "Node(key=8, freq=2)\n",
      "Node(key=9, freq=16)\n",
      "Node(key=10, freq=2)\n",
      "\n",
      "The cost of optimal BST for given tree nodes is 427.\n",
      "5 is the root of the binary search tree.\n",
      "3 is the left child of key 5.\n",
      "2 is the left child of key 3.\n",
      "1 is the left child of key 2.\n",
      "4 is the right child of key 3.\n",
      "7 is the right child of key 5.\n",
      "6 is the left child of key 7.\n",
      "9 is the right child of key 7.\n",
      "8 is the left child of key 9.\n",
      "10 is the right child of key 9.\n"
     ]
    }
   ],
   "source": [
    "# A sample binary search tree\n",
    "nodes = [Node(i, randint(1, 50)) for i in range(10, 0, -1)]\n",
    "find_optimal_binary_search_tree(nodes)\n"
   ]
  },
  {
   "cell_type": "code",
   "execution_count": 16,
   "metadata": {},
   "outputs": [],
   "source": [
    "iters = []\n",
    "times = []"
   ]
  },
  {
   "cell_type": "code",
   "execution_count": 17,
   "metadata": {},
   "outputs": [],
   "source": [
    "for n in range(1, 500):\n",
    "    nodes = [Node(i, randint(1, 50)) for i in range(n, 0, -1)]\n",
    "    start = time()\n",
    "    iters.append(optimal_BTS(nodes))\n",
    "    times.append(time() - start)"
   ]
  },
  {
   "cell_type": "code",
   "execution_count": 18,
   "metadata": {},
   "outputs": [
    {
     "data": {
      "text/plain": [
       "[<matplotlib.lines.Line2D at 0x16eaa223130>]"
      ]
     },
     "execution_count": 18,
     "metadata": {},
     "output_type": "execute_result"
    },
    {
     "data": {
      "image/png": "[encoded data removed]",
      "text/plain": [
       "<Figure size 432x288 with 1 Axes>"
      ]
     },
     "metadata": {
      "needs_background": "light"
     },
     "output_type": "display_data"
    }
   ],
   "source": [
    "plt.plot(np.arange(0, len(iters)), iters)"
   ]
  },
  {
   "cell_type": "code",
   "execution_count": 19,
   "metadata": {},
   "outputs": [
    {
     "data": {
      "text/plain": [
       "[<matplotlib.lines.Line2D at 0x16eaa32e5e0>]"
      ]
     },
     "execution_count": 19,
     "metadata": {},
     "output_type": "execute_result"
    },
    {
     "data": {
      "image/png": "[encoded data removed]",
      "text/plain": [
       "<Figure size 432x288 with 1 Axes>"
      ]
     },
     "metadata": {
      "needs_background": "light"
     },
     "output_type": "display_data"
    }
   ],
   "source": [
    "plt.plot(np.arange(0, len(times)), times)"
   ]
  }
 ],
 "metadata": {
  "interpreter": {
   "hash": "be649d6ca0cbb8aff5bd83e550ffcae4425bb10820653d740b3bc491245419a1"
  },
  "kernelspec": {
   "display_name": "Python 3.8.8 64-bit ('base': conda)",
   "language": "python",
   "name": "python3"
  },
  "language_info": {
   "codemirror_mode": {
    "name": "ipython",
    "version": 3
   },
   "file_extension": ".py",
   "mimetype": "text/x-python",
   "name": "python",
   "nbconvert_exporter": "python",
   "pygments_lexer": "ipython3",
   "version": "3.8.8"
  },
  "orig_nbformat": 4
 },
 "nbformat": 4,
 "nbformat_minor": 2
}
