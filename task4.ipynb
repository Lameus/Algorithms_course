{
 "cells": [
  {
   "cell_type": "code",
   "execution_count": 1,
   "metadata": {},
   "outputs": [],
   "source": [
    "import numpy as np\n",
    "import scipy\n",
    "from typing import Callable, Tuple, List\n",
    "import matplotlib.pyplot as plt\n",
    "from random import random"
   ]
  },
  {
   "cell_type": "code",
   "execution_count": 2,
   "metadata": {},
   "outputs": [],
   "source": [
    "def generate_noise():\n",
    "    k = np.arange(0, 1000, 1)\n",
    "    X_k = [3 * i / 1000 for i in k]\n",
    "    y_k = []\n",
    "    f_x = [1 / (x**2 - 3 * x + 2) for x in X_k]\n",
    "    for i in f_x:\n",
    "        if i < -100:\n",
    "            y_k.append(-100 + random())\n",
    "        elif i >= -100 and i <= 100:\n",
    "            y_k.append(i + random())\n",
    "        else:\n",
    "            y_k.append(100 + random())\n",
    "    return X_k, y_k, f_x"
   ]
  },
  {
   "cell_type": "code",
   "execution_count": 3,
   "metadata": {},
   "outputs": [],
   "source": [
    "x_k, y_k, f_x = generate_noise()"
   ]
  },
  {
   "cell_type": "code",
   "execution_count": 4,
   "metadata": {},
   "outputs": [
    {
     "data": {
      "text/plain": [
       "<matplotlib.collections.PathCollection at 0x236c72df6d0>"
      ]
     },
     "execution_count": 4,
     "metadata": {},
     "output_type": "execute_result"
    },
    {
     "data": {
      "image/png": "[encoded data removed]",
      "text/plain": [
       "<Figure size 864x720 with 1 Axes>"
      ]
     },
     "metadata": {
      "needs_background": "light"
     },
     "output_type": "display_data"
    }
   ],
   "source": [
    "plt.figure(figsize=(12, 10))\n",
    "plt.scatter(x_k, y_k)"
   ]
  },
  {
   "cell_type": "code",
   "execution_count": 5,
   "metadata": {},
   "outputs": [],
   "source": [
    "def approximant(x, a, b, c, d):\n",
    "    return (a * x + b) / (x**2 + c * x + d)"
   ]
  },
  {
   "cell_type": "code",
   "execution_count": 6,
   "metadata": {},
   "outputs": [],
   "source": [
    "def least_squares(variables: Tuple[float], approximant, x: List[float], y: List[float]) -> float:\n",
    "    return sum([(approximant(x_k, *variables) - y_k) ** 2 for x_k, y_k in zip(x, y)])"
   ]
  },
  {
   "cell_type": "code",
   "execution_count": 7,
   "metadata": {},
   "outputs": [],
   "source": [
    "from scipy import optimize"
   ]
  },
  {
   "cell_type": "markdown",
   "metadata": {},
   "source": [
    "#### Nelder-Mead"
   ]
  },
  {
   "cell_type": "code",
   "execution_count": 8,
   "metadata": {},
   "outputs": [],
   "source": [
    "res_NM = optimize.minimize(least_squares,(1,1,1,1), args=(approximant, x_k, y_k), method='Nelder-Mead')"
   ]
  },
  {
   "cell_type": "code",
   "execution_count": 9,
   "metadata": {},
   "outputs": [
    {
     "data": {
      "text/plain": [
       " final_simplex: (array([[-1.00135387,  1.00184917, -2.00088612,  1.00090223],\n",
       "       [-1.00134309,  1.00183807, -2.00088555,  1.00090165],\n",
       "       [-1.00137022,  1.00186535, -2.00088556,  1.00090167],\n",
       "       [-1.00136647,  1.00186156, -2.00088597,  1.00090207],\n",
       "       [-1.00132068,  1.00181591, -2.00088607,  1.00090218]]), array([135417.86371478, 135417.86373101, 135417.86375057, 135417.86376734,\n",
       "       135417.86380807]))\n",
       "           fun: 135417.86371477685\n",
       "       message: 'Optimization terminated successfully.'\n",
       "          nfev: 508\n",
       "           nit: 299\n",
       "        status: 0\n",
       "       success: True\n",
       "             x: array([-1.00135387,  1.00184917, -2.00088612,  1.00090223])"
      ]
     },
     "execution_count": 9,
     "metadata": {},
     "output_type": "execute_result"
    }
   ],
   "source": [
    "res_NM"
   ]
  },
  {
   "cell_type": "code",
   "execution_count": 10,
   "metadata": {},
   "outputs": [],
   "source": [
    "yyy = [approximant(i, *res_NM.x) for i in np.arange(0, 3, 0.01)]"
   ]
  },
  {
   "cell_type": "code",
   "execution_count": 11,
   "metadata": {},
   "outputs": [
    {
     "data": {
      "text/plain": [
       "[<matplotlib.lines.Line2D at 0x236c7d36a90>]"
      ]
     },
     "execution_count": 11,
     "metadata": {},
     "output_type": "execute_result"
    },
    {
     "data": {
      "image/png": "[encoded data removed]",
      "text/plain": [
       "<Figure size 432x288 with 1 Axes>"
      ]
     },
     "metadata": {
      "needs_background": "light"
     },
     "output_type": "display_data"
    }
   ],
   "source": [
    "plt.plot(np.arange(0, 3, 0.01), yyy)"
   ]
  },
  {
   "cell_type": "markdown",
   "metadata": {},
   "source": [
    "#### Levenberg–Marquardt "
   ]
  },
  {
   "cell_type": "code",
   "execution_count": 12,
   "metadata": {},
   "outputs": [],
   "source": [
    "def least(variables: Tuple[float], approximant, x: List[float], y: List[float]) -> float:\n",
    "    return sum([(approximant(x_k, *variables) - y_k) for x_k, y_k in zip(x, y)])"
   ]
  },
  {
   "cell_type": "code",
   "execution_count": 13,
   "metadata": {},
   "outputs": [],
   "source": [
    "def f_l(abcd):\n",
    "    global x_k\n",
    "    global y_k\n",
    "    x_k = np.array(x_k)\n",
    "    y_k = np.array(y_k)\n",
    "    a,b,c,d = abcd\n",
    "    return ((a*x_k + b) / (pow(x_k, 2) + c * x_k + d)) - y_k"
   ]
  },
  {
   "cell_type": "code",
   "execution_count": 14,
   "metadata": {},
   "outputs": [],
   "source": [
    "res_lm =  scipy.optimize.least_squares(f_l, (1, 1, 1, 1), method='lm')"
   ]
  },
  {
   "cell_type": "code",
   "execution_count": 15,
   "metadata": {},
   "outputs": [
    {
     "data": {
      "text/plain": [
       " active_mask: array([0, 0, 0, 0])\n",
       "        cost: 67711.9670045874\n",
       "         fun: array([ 2.16340915e-01, -2.92313971e-01,  4.16227693e-01, -2.87709369e-01,\n",
       "        7.91670631e-02, -3.56301288e-02, -1.39824482e-01, -2.61818534e-01,\n",
       "       -4.49642740e-01,  1.59651856e-01, -1.53688099e-01,  2.85044681e-01,\n",
       "        1.69821095e-01, -9.49514501e-02,  3.60389943e-01,  4.18896092e-01,\n",
       "       -1.24416987e-01,  4.95414419e-01, -2.36769291e-01, -8.37728450e-03,\n",
       "        3.23251463e-01, -2.17268628e-01,  1.99107255e-01,  3.10269753e-01,\n",
       "       -5.78466315e-02,  1.47051642e-01, -2.35086251e-02,  2.87849986e-01,\n",
       "        4.49771063e-01, -3.94652085e-01,  9.75100556e-02, -3.14912469e-01,\n",
       "        4.20797974e-01,  3.77896736e-01, -3.76214469e-02, -6.35232546e-02,\n",
       "        3.56744885e-01,  1.25495704e-01, -1.48403911e-01,  3.74774353e-01,\n",
       "        3.72002814e-01, -2.72420804e-01, -4.54632067e-01,  2.05279640e-01,\n",
       "       -3.01437073e-01,  3.25552898e-01,  2.28284566e-01, -3.47092318e-01,\n",
       "        5.12629662e-01, -2.85487957e-01,  3.68681606e-01,  1.00078858e-01,\n",
       "        5.00331503e-01,  2.03951296e-01,  1.76980748e-01,  1.41130181e-01,\n",
       "        5.01894939e-01, -1.23861018e-01, -4.48354396e-02,  4.70290426e-01,\n",
       "        1.87663689e-01, -1.32706310e-01,  4.40971437e-01, -1.36811733e-01,\n",
       "        3.50207198e-02,  5.27553100e-01, -3.62000679e-02, -1.83933137e-01,\n",
       "        6.58738741e-02,  4.20378813e-01,  1.47018441e-01,  4.34387455e-01,\n",
       "       -1.61988126e-01, -4.06263518e-01,  2.84369044e-01,  2.93845910e-02,\n",
       "        1.31492971e-01, -3.21067530e-01,  4.17250412e-01, -3.56128804e-01,\n",
       "        1.99886849e-02, -1.79706843e-01, -2.63762165e-01,  2.06114514e-01,\n",
       "       -2.59659236e-01,  3.90220415e-01, -3.07046236e-01,  5.07111168e-01,\n",
       "        4.45799593e-01, -1.96507636e-01,  4.63757935e-01, -1.58021659e-02,\n",
       "        7.70821294e-02, -3.92611105e-01,  3.51605348e-01,  3.34519525e-01,\n",
       "        1.36663383e-01, -2.68130434e-01,  3.91672696e-02, -1.56223869e-02,\n",
       "       -2.07861528e-01,  4.67148259e-01, -2.51109826e-01, -2.01476754e-01,\n",
       "        1.77334200e-01, -2.56124210e-01,  2.95847722e-02,  1.74237436e-01,\n",
       "        4.36764186e-01,  2.36340583e-01,  9.18179135e-02,  4.79358776e-01,\n",
       "       -2.24775708e-01,  5.22551511e-01,  7.27692826e-02, -1.89289805e-01,\n",
       "        4.83682182e-01,  5.60654128e-01, -2.22246537e-01,  5.39634555e-01,\n",
       "       -1.11941082e-02,  5.87176334e-01,  3.19233780e-01, -2.95283483e-01,\n",
       "       -2.86920941e-01, -2.38710457e-02,  2.21860597e-01,  9.24067259e-02,\n",
       "       -2.88957476e-01,  1.01952454e-01,  1.94536479e-01,  4.94110402e-01,\n",
       "        6.01113928e-01, -3.39488169e-01,  9.71575944e-02,  3.29758829e-01,\n",
       "       -4.95119715e-02,  5.09522419e-01, -1.28569447e-02, -8.28165105e-02,\n",
       "        5.27908379e-01, -1.80005830e-01,  3.87800712e-01, -2.99207432e-01,\n",
       "        2.42825431e-01, -2.37923906e-01,  4.37740497e-02, -4.94740624e-02,\n",
       "       -2.07209181e-01, -3.06017581e-01, -1.69168448e-02,  5.32730567e-01,\n",
       "        5.97175640e-01, -2.06716246e-01,  3.52981065e-01,  4.47721974e-01,\n",
       "       -8.89082881e-02, -1.42130245e-01,  2.55520243e-01,  2.21957349e-01,\n",
       "       -7.44980507e-02,  2.26455098e-01,  2.35226704e-02,  6.30070598e-01,\n",
       "        2.56085639e-01,  1.44123106e-02,  2.60799919e-02, -9.61594147e-02,\n",
       "        1.09169709e-01, -2.04485425e-01,  5.93495012e-01,  1.00007633e-01,\n",
       "       -2.40698536e-01,  2.32142528e-01, -2.46834904e-01, -1.31349543e-01,\n",
       "        3.48043674e-01,  5.88540200e-01, -3.01300764e-01,  4.09338725e-01,\n",
       "        4.77088127e-01,  2.39550398e-01,  4.95329319e-01, -2.09460162e-01,\n",
       "        6.54497517e-01, -4.98953686e-02, -2.83948237e-01,  1.71563716e-01,\n",
       "       -2.42640556e-01,  3.49023963e-01,  4.87611857e-01,  4.02780418e-01,\n",
       "        2.43136526e-02,  5.10319556e-01,  3.98899128e-01,  3.20795333e-01,\n",
       "       -7.45096089e-02,  1.93434439e-01,  6.68310390e-01,  5.93931358e-01,\n",
       "        3.97561640e-01, -1.86880060e-01,  6.19370213e-01,  6.25211989e-01,\n",
       "        5.09156515e-01,  4.19026135e-01, -1.15479074e-01,  5.96625137e-01,\n",
       "        7.28198824e-01,  4.66091734e-01,  9.67252937e-02,  7.16597269e-01,\n",
       "        7.35654338e-01,  4.26144494e-01, -2.34378695e-01, -7.75038889e-02,\n",
       "        6.07021352e-01,  2.82972782e-01, -1.20251368e-01,  4.63465124e-01,\n",
       "        5.51154320e-01,  6.22963403e-01,  2.19790489e-01,  3.92826621e-01,\n",
       "        1.39507104e-01, -2.07173801e-02,  5.96996955e-01,  7.90245317e-02,\n",
       "       -1.26105117e-01,  4.93799176e-01,  5.81786725e-01,  3.87174221e-01,\n",
       "        3.02388801e-01,  7.23942673e-02,  5.30328220e-01, -1.89602925e-01,\n",
       "        3.66712742e-01,  2.11802117e-01, -1.94598638e-01,  6.71089375e-01,\n",
       "        4.44042278e-01, -1.53590439e-01,  7.84435380e-01,  6.82997583e-01,\n",
       "        6.51059018e-01,  1.29288167e-01,  4.34860448e-01,  3.60873929e-02,\n",
       "        5.80616234e-01,  4.10888035e-01,  5.85411440e-02,  3.99786399e-03,\n",
       "        4.87447227e-01,  6.05257021e-01,  9.33811487e-03, -4.50150159e-02,\n",
       "        3.68971988e-01,  4.16388893e-01, -5.32644966e-02,  3.04487850e-01,\n",
       "        5.09758116e-02,  2.57456471e-02,  2.17000542e-01,  5.66926473e-01,\n",
       "        3.32212086e-01,  3.05513352e-01,  5.67002426e-01,  4.30953274e-01,\n",
       "        7.37930821e-01,  3.27145833e-01, -1.13065325e-01, -1.11604985e-02,\n",
       "        3.61100352e-01,  1.34884591e-01,  5.07588620e-01, -6.53903439e-03,\n",
       "        3.96215782e-01,  7.55893538e-02,  3.63995548e-01,  6.72755518e-01,\n",
       "        6.26417269e-01,  3.21853807e-01,  2.10959671e-01,  4.09602796e-01,\n",
       "        5.56983008e-01, -5.11819477e-02,  8.19268005e-01,  7.34640360e-01,\n",
       "        5.62946783e-01,  2.11498224e-01,  4.20370211e-01, -1.58310955e-02,\n",
       "       -6.48434536e-02,  6.08048423e-01, -1.17474284e-01, -7.01777289e-02,\n",
       "        3.75310513e-01,  8.40007959e-01,  7.02239609e-01,  7.52016097e-02,\n",
       "        5.34715895e-01, -3.30673905e-02,  5.89887649e-02,  1.74236266e-01,\n",
       "        4.85206820e-02,  2.11435309e-01,  6.63839910e-01,  1.16198891e-01,\n",
       "        7.48803548e-01,  3.15124387e-01,  7.50720788e-01,  2.37419252e-01,\n",
       "       -1.35086866e-01, -1.01808913e-01,  7.12688512e-01,  3.26917605e-01,\n",
       "        1.90529724e-02,  7.89320921e-03,  4.52405966e-01, -6.28706156e-02,\n",
       "        3.53517672e-01, -3.08539674e-01, -7.32033839e-02, -4.04616555e-01,\n",
       "       -9.88208362e-01, -1.14336407e+00, -1.05283665e+00, -1.90377605e+00,\n",
       "       -3.58872748e+00, -7.18125193e+00, -1.45380801e+01,  5.50426801e+00,\n",
       "        2.62027485e+01, -1.83045468e+01,  1.67331909e+01, -2.28034056e+01,\n",
       "       -2.34602918e+00,  8.99940122e+00,  4.79009043e+00,  2.60084476e+00,\n",
       "        1.90817756e+00,  8.41536474e-01,  7.67126987e-01,  1.22644254e+00,\n",
       "        1.00995922e+00,  9.93199349e-01,  3.14923020e-01,  3.86098083e-01,\n",
       "        3.03374249e-01,  5.02924887e-01,  6.67237076e-01,  6.90552271e-01,\n",
       "        7.30235280e-01,  2.55615973e-01,  3.38470051e-01,  7.72962938e-01,\n",
       "        5.64801624e-01,  1.75027916e-01,  8.87226973e-02,  9.58352125e-01,\n",
       "        1.04485765e+00,  3.64215728e-01,  1.01096201e+00,  2.46992221e-01,\n",
       "        8.98896068e-01,  1.00610742e+00,  9.62036815e-01,  1.02025425e+00,\n",
       "        6.07261325e-01,  5.71743168e-01,  1.07852250e-01,  1.13879361e-01,\n",
       "        6.13476579e-01,  1.94097726e-01,  1.02455407e+00,  3.04848992e-01,\n",
       "        8.80945507e-01,  1.82694808e-01,  2.79719957e-01,  1.04411099e+00,\n",
       "        8.60029752e-01,  1.07815896e+00,  1.11574227e+00,  6.35117856e-01,\n",
       "        1.02262574e+00,  1.06400774e+00,  7.16380633e-01,  7.22021704e-01,\n",
       "        3.02835808e-01,  7.29942750e-01,  1.14843975e+00,  8.82971803e-01,\n",
       "        1.11314176e+00,  1.08339719e+00,  6.58855344e-01,  5.83246711e-01,\n",
       "        9.42980445e-01,  1.15592818e+00,  1.01703115e+00,  6.54156198e-01,\n",
       "        1.05950700e+00,  7.70201958e-01,  1.06236919e+00,  7.82593728e-01,\n",
       "        7.84790196e-01,  9.23744046e-01,  7.21669364e-01,  9.26999768e-01,\n",
       "        8.69895973e-01,  4.26407996e-01,  9.79299808e-01,  8.15255552e-01,\n",
       "        1.08221789e+00,  1.17907704e+00,  7.52024297e-01,  8.68978132e-01,\n",
       "        9.46166088e-01,  5.84092422e-01,  9.50716211e-01,  7.14514395e-01,\n",
       "        3.97910916e-01,  1.01684845e+00,  8.29824175e-01,  1.30094966e+00,\n",
       "        9.59203016e-01,  9.10792629e-01,  3.79326810e-01,  8.50858127e-01,\n",
       "        7.84541583e-01,  1.32496465e+00,  9.85528637e-01,  1.34308439e+00,\n",
       "        1.37550950e+00,  1.37532178e+00,  1.40399239e+00,  1.20491142e+00,\n",
       "        5.32867951e-01,  5.56842705e-01,  1.37406627e+00,  4.86363675e-01,\n",
       "        8.14942982e-01,  6.53549578e-01,  1.16556902e+00,  1.16359215e+00,\n",
       "        1.38840717e+00,  6.06824620e-01,  1.04006365e+00,  9.34837153e-01,\n",
       "        1.13840467e+00,  1.35565877e+00,  9.30330836e-01,  7.29625632e-01,\n",
       "        1.03144558e+00,  1.31556027e+00,  1.19108966e+00,  9.16207899e-01,\n",
       "        1.19977732e+00,  1.20216111e+00,  7.63310265e-01,  1.51560760e+00,\n",
       "        8.38479395e-01,  1.21793024e+00,  7.39780984e-01,  1.52211748e+00,\n",
       "        9.81930952e-01,  1.54708005e+00,  9.12343917e-01,  1.31361976e+00,\n",
       "        1.41158435e+00,  8.18812074e-01,  1.43976999e+00,  1.45778670e+00,\n",
       "        1.60229633e+00,  1.41952043e+00,  1.57943619e+00,  1.25117123e+00,\n",
       "        8.84116898e-01,  1.66377234e+00,  1.66689309e+00,  1.74790591e+00,\n",
       "        1.53914434e+00,  1.34619712e+00,  1.22126245e+00,  1.01010192e+00,\n",
       "        1.19141565e+00,  1.77308748e+00,  1.25262257e+00,  1.30797112e+00,\n",
       "        1.53043686e+00,  1.30283240e+00,  9.36055562e-01,  1.28406349e+00,\n",
       "        1.78309562e+00,  1.19930725e+00,  1.37456323e+00,  1.60648270e+00,\n",
       "        9.53487010e-01,  1.27356019e+00,  1.65356831e+00,  1.60608246e+00,\n",
       "        1.21667980e+00,  1.05966125e+00,  1.30765505e+00,  1.60511257e+00,\n",
       "        1.34902654e+00,  1.14487070e+00,  1.38203412e+00,  1.45168613e+00,\n",
       "        1.60724241e+00,  1.78300663e+00,  1.64315232e+00,  1.66039761e+00,\n",
       "        1.31727439e+00,  2.11796348e+00,  1.39034794e+00,  2.10241841e+00,\n",
       "        1.96481029e+00,  1.70567177e+00,  1.79392137e+00,  1.75516139e+00,\n",
       "        2.24943612e+00,  2.03686537e+00,  2.25635474e+00,  1.78422122e+00,\n",
       "        1.86674885e+00,  2.02357379e+00,  1.49642576e+00,  2.05037084e+00,\n",
       "        2.12234918e+00,  1.44888842e+00,  2.03935306e+00,  2.09392631e+00,\n",
       "        2.17810365e+00,  2.08778505e+00,  1.93381142e+00,  1.90969712e+00,\n",
       "        2.18304745e+00,  1.86323637e+00,  1.85894397e+00,  2.18056298e+00,\n",
       "        2.30569972e+00,  2.34590573e+00,  2.19702956e+00,  2.56906419e+00,\n",
       "        2.18930310e+00,  2.07944772e+00,  1.89252056e+00,  1.82374003e+00,\n",
       "        2.78019004e+00,  2.26780066e+00,  2.34205559e+00,  2.83172920e+00,\n",
       "        2.06604639e+00,  2.28267416e+00,  2.58326062e+00,  2.89156081e+00,\n",
       "        2.82671370e+00,  2.07802893e+00,  2.53942854e+00,  2.89658878e+00,\n",
       "        2.95531458e+00,  3.13810631e+00,  2.53513438e+00,  2.77182455e+00,\n",
       "        2.57001178e+00,  2.70558604e+00,  2.69348845e+00,  3.26146381e+00,\n",
       "        2.42350117e+00,  2.96873164e+00,  2.44681162e+00,  2.54445774e+00,\n",
       "        2.68685292e+00,  3.07209122e+00,  3.07542529e+00,  3.45676684e+00,\n",
       "        2.76947173e+00,  3.25906531e+00,  3.31480847e+00,  3.65149425e+00,\n",
       "        3.26064703e+00,  3.73571273e+00,  3.62766025e+00,  3.02746609e+00,\n",
       "        3.20611829e+00,  3.90777836e+00,  3.46856944e+00,  4.10286857e+00,\n",
       "        3.65445409e+00,  4.05106276e+00,  3.93952255e+00,  3.93799681e+00,\n",
       "        4.18769403e+00,  4.26445615e+00,  4.53772647e+00,  4.10348972e+00,\n",
       "        3.76156413e+00,  3.80052596e+00,  4.31394805e+00,  4.05946949e+00,\n",
       "        4.26441666e+00,  4.34380137e+00,  5.04749489e+00,  5.16978100e+00,\n",
       "        4.56468803e+00,  4.90337901e+00,  5.39410134e+00,  4.82162386e+00,\n",
       "        4.78018515e+00,  5.07965675e+00,  5.36802416e+00,  5.78696060e+00,\n",
       "        5.60870120e+00,  5.75171432e+00,  6.25769765e+00,  6.24649332e+00,\n",
       "        6.36933941e+00,  6.66697749e+00,  6.15246015e+00,  6.36777329e+00,\n",
       "        6.73315491e+00,  6.34638033e+00,  6.88553986e+00,  7.58348213e+00,\n",
       "        6.98536729e+00,  7.95262064e+00,  7.76890305e+00,  7.91460167e+00,\n",
       "        8.59718617e+00,  8.58020951e+00,  8.59972935e+00,  8.98104283e+00,\n",
       "        9.59086628e+00,  9.02902818e+00,  9.88444772e+00,  1.04125812e+01,\n",
       "        1.02644814e+01,  1.08960326e+01,  1.15322331e+01,  1.17943410e+01,\n",
       "        1.16346470e+01,  1.26759917e+01,  1.34343894e+01,  1.30992782e+01,\n",
       "        1.41901883e+01,  1.47853693e+01,  1.60709464e+01,  1.62874409e+01,\n",
       "        1.74105379e+01,  1.81989676e+01,  1.99217236e+01,  2.04440362e+01,\n",
       "        2.20228972e+01,  2.33985029e+01,  2.59871827e+01,  2.78196021e+01,\n",
       "        3.05298574e+01,  3.36651499e+01,  3.77104963e+01,  4.34088177e+01,\n",
       "        4.94064920e+01,  5.81588640e+01,  7.14095388e+01,  9.04687088e+01,\n",
       "        9.89354338e+01,  9.86352833e+01,  9.87049056e+01, -1.01563894e+02,\n",
       "       -1.01297215e+02, -1.01106239e+02, -1.00389689e+02, -7.74952806e+01,\n",
       "       -6.26886280e+01, -5.26895326e+01, -4.55471241e+01, -4.02881163e+01,\n",
       "       -3.61500106e+01, -3.25141936e+01, -3.02286986e+01, -2.71172230e+01,\n",
       "       -2.53455035e+01, -2.34088873e+01, -2.26611844e+01, -2.04814628e+01,\n",
       "       -1.98069308e+01, -1.86126507e+01, -1.73566235e+01, -1.65390114e+01,\n",
       "       -1.60907446e+01, -1.51603238e+01, -1.51423740e+01, -1.39142174e+01,\n",
       "       -1.32932525e+01, -1.29313004e+01, -1.25781286e+01, -1.26975609e+01,\n",
       "       -1.16699997e+01, -1.15499209e+01, -1.11212521e+01, -1.09934460e+01,\n",
       "       -1.04660377e+01, -1.00449833e+01, -1.01034530e+01, -1.00400674e+01,\n",
       "       -9.80022178e+00, -9.13604757e+00, -9.17965206e+00, -9.09687519e+00,\n",
       "       -8.34476673e+00, -8.21549764e+00, -8.34385902e+00, -7.66012543e+00,\n",
       "       -7.84911998e+00, -7.20639792e+00, -7.18983775e+00, -7.52788847e+00,\n",
       "       -7.25487596e+00, -7.05276719e+00, -7.39627242e+00, -7.02218360e+00,\n",
       "       -7.08922813e+00, -6.16143109e+00, -6.32179366e+00, -6.34821624e+00,\n",
       "       -6.39159804e+00, -6.13721714e+00, -6.49848085e+00, -6.42789810e+00,\n",
       "       -6.41219774e+00, -6.28171780e+00, -6.23211151e+00, -5.70692539e+00,\n",
       "       -5.52929224e+00, -5.34426632e+00, -5.63413559e+00, -5.27562420e+00,\n",
       "       -5.76992126e+00, -5.01652311e+00, -5.40554584e+00, -4.80977453e+00,\n",
       "       -5.10274059e+00, -4.87677096e+00, -4.59873466e+00, -4.81834960e+00,\n",
       "       -4.41620403e+00, -4.80504613e+00, -4.57063170e+00, -4.54333373e+00,\n",
       "       -4.54415722e+00, -4.25757634e+00, -4.82851051e+00, -3.97212139e+00,\n",
       "       -4.82010332e+00, -4.72673189e+00, -4.60563224e+00, -4.54195407e+00,\n",
       "       -3.96716949e+00, -4.64703296e+00, -3.84272719e+00, -3.93260682e+00,\n",
       "       -4.01372668e+00, -3.79334229e+00, -4.25737203e+00, -4.21932968e+00,\n",
       "       -4.31820783e+00, -3.99601234e+00, -3.54955245e+00, -3.36423215e+00,\n",
       "       -3.94203308e+00, -3.36778177e+00, -3.65805229e+00, -3.33366993e+00,\n",
       "       -3.44253967e+00, -3.41709787e+00, -4.02320178e+00, -3.26822877e+00,\n",
       "       -3.77931982e+00, -3.29436942e+00, -3.02010992e+00, -3.86809896e+00,\n",
       "       -3.66806083e+00, -3.37178914e+00, -3.30116064e+00, -3.43644779e+00,\n",
       "       -3.20114519e+00, -3.28183051e+00, -3.34453836e+00, -3.54761846e+00,\n",
       "       -2.97038081e+00, -2.83488774e+00, -3.13609993e+00, -3.32555832e+00,\n",
       "       -3.25001942e+00, -3.01936440e+00, -3.11881466e+00, -2.75080781e+00,\n",
       "       -3.28092348e+00, -3.18712802e+00, -2.99074876e+00, -3.34635925e+00,\n",
       "       -3.46804341e+00, -2.53024744e+00, -2.98884946e+00, -2.93901438e+00,\n",
       "       -2.66322311e+00, -3.40113574e+00, -2.81040478e+00, -3.19457927e+00,\n",
       "       -2.56903109e+00, -3.08292676e+00, -2.71748676e+00, -2.89169340e+00,\n",
       "       -2.58199785e+00, -3.00216144e+00, -2.45487315e+00, -2.40709782e+00,\n",
       "       -2.31693087e+00, -2.27035840e+00, -2.73198053e+00, -3.17057775e+00,\n",
       "       -2.67534091e+00, -2.19749543e+00, -2.57000282e+00, -2.43351784e+00,\n",
       "       -2.95694840e+00, -3.06730020e+00, -2.27405407e+00, -2.42067544e+00,\n",
       "       -2.79984720e+00, -2.80216742e+00, -2.27380561e+00, -2.57034558e+00,\n",
       "       -2.49188900e+00, -2.87024967e+00, -2.22853493e+00, -2.42495529e+00,\n",
       "       -2.02393566e+00, -2.22993265e+00, -2.40418810e+00, -2.76357014e+00,\n",
       "       -2.12021752e+00, -2.81281929e+00, -2.16857952e+00, -2.06654135e+00,\n",
       "       -2.20222145e+00, -2.43484422e+00, -2.13624001e+00, -2.59685012e+00,\n",
       "       -2.68480511e+00, -1.94374656e+00, -2.81151993e+00, -2.70980063e+00,\n",
       "       -2.69315919e+00, -2.58974577e+00, -1.97842454e+00, -2.31853582e+00,\n",
       "       -2.54729689e+00, -2.47392963e+00, -2.60826285e+00, -2.63949477e+00,\n",
       "       -2.02715340e+00, -2.38211185e+00, -2.54527267e+00, -2.29586047e+00,\n",
       "       -1.99522859e+00, -2.19067189e+00, -1.92877275e+00, -2.12531802e+00,\n",
       "       -2.48746276e+00, -1.93143496e+00, -2.44368020e+00, -1.99457696e+00,\n",
       "       -2.49954393e+00, -2.61463637e+00, -1.71158994e+00, -2.55539538e+00,\n",
       "       -2.25462589e+00, -1.96214869e+00, -1.74797218e+00, -2.40963916e+00,\n",
       "       -1.70120634e+00, -1.74845451e+00, -2.51241414e+00, -2.28270872e+00,\n",
       "       -2.40282446e+00, -2.30229766e+00, -1.58981594e+00, -2.11601236e+00,\n",
       "       -2.16031927e+00, -2.44248212e+00, -2.26039170e+00, -1.62518459e+00,\n",
       "       -2.43104067e+00, -1.98411677e+00, -1.87510858e+00, -1.81937723e+00,\n",
       "       -2.19920917e+00, -2.27737835e+00, -1.90168405e+00, -2.13313714e+00,\n",
       "       -2.36355183e+00, -2.18671807e+00, -1.62172336e+00, -1.69127531e+00,\n",
       "       -1.75471695e+00, -2.32634884e+00, -1.59887193e+00, -1.73872845e+00,\n",
       "       -1.39414108e+00, -1.84659703e+00, -1.90813591e+00, -1.43665565e+00,\n",
       "       -1.76480646e+00, -2.15828955e+00, -1.64263878e+00, -1.95028265e+00,\n",
       "       -2.17458544e+00, -1.88044494e+00, -1.66957681e+00, -1.82965269e+00,\n",
       "       -2.11263746e+00, -2.05565781e+00, -1.96949802e+00, -2.25995038e+00,\n",
       "       -2.28106311e+00, -1.52920286e+00, -1.39568067e+00, -2.02520743e+00,\n",
       "       -1.40559314e+00, -1.82972387e+00, -1.68112971e+00, -1.99518394e+00,\n",
       "       -1.69881772e+00, -2.22988798e+00, -1.67883779e+00, -1.95688075e+00,\n",
       "       -1.42114376e+00, -2.22816017e+00, -1.40755226e+00, -1.23463949e+00,\n",
       "       -1.25704102e+00, -2.05243708e+00, -1.71508265e+00, -2.07341742e+00,\n",
       "       -1.94012236e+00, -2.11318698e+00, -1.84953781e+00, -1.36335655e+00,\n",
       "       -2.04061294e+00, -1.59859735e+00, -1.38827514e+00, -1.83386413e+00,\n",
       "       -1.94519319e+00, -1.98291224e+00, -1.35245212e+00, -1.66087634e+00,\n",
       "       -1.88760784e+00, -1.59863095e+00, -1.94781502e+00, -1.92012034e+00,\n",
       "       -1.50195533e+00, -1.25463111e+00, -1.31677696e+00, -1.13380045e+00,\n",
       "       -1.22467682e+00, -1.32928838e+00, -1.45842598e+00, -1.49327839e+00,\n",
       "       -1.48682878e+00, -1.29822683e+00, -1.18863527e+00, -2.08883975e+00,\n",
       "       -1.40305858e+00, -1.77105765e+00, -1.09058846e+00, -1.73657114e+00,\n",
       "       -1.12685159e+00, -1.33335199e+00, -1.45921217e+00, -1.96295230e+00,\n",
       "       -1.54348385e+00, -1.89848764e+00, -1.39118450e+00, -1.54029951e+00,\n",
       "       -1.53050979e+00, -1.97508101e+00, -1.20828107e+00, -1.22296767e+00,\n",
       "       -1.50017617e+00, -1.43456014e+00, -1.70032619e+00, -1.88951677e+00,\n",
       "       -1.05788212e+00, -1.36042646e+00, -1.20606623e+00, -1.24446153e+00,\n",
       "       -1.21127713e+00, -1.09026261e+00, -1.45658371e+00, -1.88219533e+00])\n",
       "        grad: array([-1.85458637e+01,  9.12272284e+00,  1.06246759e+08,  1.51046619e+07])\n",
       "         jac: array([[ 0.        ,  0.99920062,  0.        , -1.00078576],\n",
       "       [ 0.00301566,  1.00522045, -0.00302953, -1.00984362],\n",
       "       [ 0.00606777,  1.01129484, -0.00611407, -1.01901111],\n",
       "       ...,\n",
       "       [ 0.75481958,  0.25236362,  0.37990189,  0.12701501],\n",
       "       [ 0.7533044 ,  0.25160468,  0.37856879,  0.12644248],\n",
       "       [ 0.7517949 ,  0.25084915,  0.37724255,  0.12587339]])\n",
       "     message: '`xtol` termination condition is satisfied.'\n",
       "        nfev: 207\n",
       "        njev: None\n",
       "  optimality: 106246759.43930803\n",
       "      status: 3\n",
       "     success: True\n",
       "           x: array([-1.00191858,  1.00238769, -2.00078392,  1.00080001])"
      ]
     },
     "execution_count": 15,
     "metadata": {},
     "output_type": "execute_result"
    }
   ],
   "source": [
    "res_lm"
   ]
  },
  {
   "cell_type": "markdown",
   "metadata": {},
   "source": [
    "#### Annealing"
   ]
  },
  {
   "cell_type": "code",
   "execution_count": 16,
   "metadata": {},
   "outputs": [],
   "source": [
    "res_annealing = optimize.dual_annealing(least_squares, args=(approximant, x_k, y_k),bounds=list(zip([-3]*4, [3]*4)))"
   ]
  },
  {
   "cell_type": "code",
   "execution_count": 17,
   "metadata": {},
   "outputs": [
    {
     "data": {
      "text/plain": [
       "     fun: 135417.86700897102\n",
       " message: ['Maximum number of iteration reached']\n",
       "    nfev: 8986\n",
       "    nhev: 0\n",
       "     nit: 1000\n",
       "    njev: 197\n",
       "  status: 0\n",
       " success: True\n",
       "       x: array([-1.00119281,  1.00168795, -2.00088612,  1.00090221])"
      ]
     },
     "execution_count": 17,
     "metadata": {},
     "output_type": "execute_result"
    }
   ],
   "source": [
    "res_annealing"
   ]
  },
  {
   "cell_type": "markdown",
   "metadata": {},
   "source": [
    "#### Differential Evolution"
   ]
  },
  {
   "cell_type": "code",
   "execution_count": 18,
   "metadata": {},
   "outputs": [],
   "source": [
    "res_de = optimize.differential_evolution(least_squares, args=(approximant, x_k, y_k),bounds=list(zip([-3]*4, [3]*4)))"
   ]
  },
  {
   "cell_type": "code",
   "execution_count": 19,
   "metadata": {},
   "outputs": [
    {
     "data": {
      "text/plain": [
       "     fun: 135417.86702143226\n",
       "     jac: array([  103.32150913,   104.15678907, -7307.65464035, -7245.06976295])\n",
       " message: 'Optimization terminated successfully.'\n",
       "    nfev: 1250\n",
       "     nit: 7\n",
       " success: True\n",
       "       x: array([-1.00119207,  1.00168716, -2.00088602,  1.00090212])"
      ]
     },
     "execution_count": 19,
     "metadata": {},
     "output_type": "execute_result"
    }
   ],
   "source": [
    "res_de"
   ]
  },
  {
   "cell_type": "code",
   "execution_count": 20,
   "metadata": {},
   "outputs": [
    {
     "data": {
      "text/plain": [
       "-1.0013538748428916"
      ]
     },
     "execution_count": 20,
     "metadata": {},
     "output_type": "execute_result"
    }
   ],
   "source": [
    "res_NM.x[0]"
   ]
  },
  {
   "cell_type": "code",
   "execution_count": 21,
   "metadata": {},
   "outputs": [
    {
     "data": {
      "text/plain": [
       "1000"
      ]
     },
     "execution_count": 21,
     "metadata": {},
     "output_type": "execute_result"
    }
   ],
   "source": [
    "len(x_k)"
   ]
  },
  {
   "cell_type": "code",
   "execution_count": 22,
   "metadata": {},
   "outputs": [
    {
     "data": {
      "text/plain": [
       "(-1.0013538748428916,\n",
       " 1.0018491663817704,\n",
       " -2.000886122587234,\n",
       " 1.0009022283312097)"
      ]
     },
     "execution_count": 22,
     "metadata": {},
     "output_type": "execute_result"
    }
   ],
   "source": [
    "tuple(res_NM.x)"
   ]
  },
  {
   "cell_type": "code",
   "execution_count": 23,
   "metadata": {},
   "outputs": [
    {
     "data": {
      "image/png": "[encoded data removed]",
      "text/plain": [
       "<Figure size 864x720 with 1 Axes>"
      ]
     },
     "metadata": {
      "needs_background": "light"
     },
     "output_type": "display_data"
    }
   ],
   "source": [
    "plt.figure(figsize=(12,10))\n",
    "plt.scatter(x_k, y_k, label='Generated data') \n",
    "plt.plot(np.arange(0, 3, 0.01), [approximant(i, *res_NM.x) for i in np.arange(0, 3, 0.01)],\n",
    "                 '-', label='NM: fit: a=%5.5f, b=%5.5f, c=%5.5f, d=%5.5f' % tuple(res_NM.x))\n",
    "plt.plot(np.arange(0, 3, 0.01), [approximant(i, *res_lm.x) for i in np.arange(0, 3, 0.01)],\n",
    "                 '-', label='LM: fit: a=%5.5f, b=%5.5f, c=%5.5f, d=%5.5f' % tuple(res_lm.x))\n",
    "plt.plot(np.arange(0, 3, 0.01), [approximant(i, *res_annealing.x) for i in np.arange(0, 3, 0.01)],\n",
    "         '-', label='annealing: fit: a=%5.5f, b=%5.5f, c=%5.5f, d=%5.5f' % tuple(res_annealing.x))\n",
    "plt.plot(np.arange(0, 3, 0.01), [approximant(i, *res_de.x) for i in np.arange(0, 3, 0.01)],\n",
    "                 '-', label='DE: fit: a=%5.5f, b=%5.5f, c=%5.5f, d=%5.5f' % tuple(res_de.x))\n",
    "plt.legend()\n",
    "plt.show()"
   ]
  },
  {
   "cell_type": "markdown",
   "metadata": {},
   "source": [
    "### Travelling Salesman Problem"
   ]
  },
  {
   "cell_type": "code",
   "execution_count": 24,
   "metadata": {},
   "outputs": [],
   "source": [
    "import re"
   ]
  },
  {
   "cell_type": "code",
   "execution_count": 25,
   "metadata": {},
   "outputs": [],
   "source": [
    "XY = []\n",
    "with open('tsp_coor.txt', 'r') as coor_info:\n",
    "    for city in coor_info.readlines()[2:]:\n",
    "        XY.append(tuple(map(float, re.split('\\s+', city.strip()))))\n"
   ]
  },
  {
   "cell_type": "code",
   "execution_count": 26,
   "metadata": {},
   "outputs": [
    {
     "data": {
      "text/plain": [
       "[(-57.0, 28.0),\n",
       " (54.0, -65.0),\n",
       " (46.0, 79.0),\n",
       " (8.0, 111.0),\n",
       " (-36.0, 52.0),\n",
       " (-22.0, -76.0),\n",
       " (34.0, 129.0),\n",
       " (74.0, 6.0),\n",
       " (-6.0, -41.0),\n",
       " (21.0, 45.0),\n",
       " (37.0, 155.0),\n",
       " (-38.0, 35.0),\n",
       " (-5.0, -24.0),\n",
       " (70.0, -74.0),\n",
       " (59.0, -26.0),\n",
       " (114.0, -56.0),\n",
       " (83.0, -41.0),\n",
       " (-40.0, -28.0),\n",
       " (21.0, -12.0),\n",
       " (0.0, 71.0),\n",
       " (50.0, 140.0),\n",
       " (-20.0, 70.0)]"
      ]
     },
     "execution_count": 26,
     "metadata": {},
     "output_type": "execute_result"
    }
   ],
   "source": [
    "XY"
   ]
  },
  {
   "cell_type": "code",
   "execution_count": 27,
   "metadata": {},
   "outputs": [],
   "source": [
    "distance = []\n",
    "with open('tsp_dist.txt', 'r') as dist_info:\n",
    "    for dist in dist_info.readlines()[7:]:\n",
    "        distance.append(tuple(map(float, re.split('\\s+', dist.strip()))))"
   ]
  },
  {
   "cell_type": "code",
   "execution_count": 28,
   "metadata": {},
   "outputs": [
    {
     "name": "stdout",
     "output_type": "stream",
     "text": [
      "(0.0, 144.0, 114.0, 105.0, 31.0, 109.0, 135.0, 132.0, 85.0, 79.0, 158.0, 20.0, 73.0, 162.0, 127.0, 190.0, 156.0, 58.0, 87.0, 71.0, 154.0, 55.0)\n",
      "(144.0, 0.0, 144.0, 181.0, 147.0, 76.0, 195.0, 73.0, 64.0, 114.0, 220.0, 135.0, 71.0, 18.0, 39.0, 60.0, 37.0, 101.0, 62.0, 146.0, 205.0, 153.0)\n",
      "(114.0, 144.0, 0.0, 49.0, 86.0, 169.0, 51.0, 78.0, 130.0, 42.0, 76.0, 94.0, 114.0, 154.0, 105.0, 151.0, 125.0, 137.0, 94.0, 46.0, 61.0, 66.0)\n",
      "(105.0, 181.0, 49.0, 0.0, 73.0, 189.0, 31.0, 124.0, 152.0, 67.0, 52.0, 88.0, 135.0, 195.0, 146.0, 197.0, 169.0, 147.0, 123.0, 40.0, 51.0, 49.0)\n",
      "(31.0, 147.0, 86.0, 73.0, 0.0, 128.0, 104.0, 119.0, 97.0, 57.0, 126.0, 17.0, 82.0, 164.0, 122.0, 184.0, 151.0, 80.0, 85.0, 40.0, 123.0, 24.0)\n",
      "(109.0, 76.0, 169.0, 189.0, 128.0, 0.0, 212.0, 126.0, 38.0, 128.0, 238.0, 112.0, 54.0, 92.0, 95.0, 137.0, 110.0, 51.0, 77.0, 148.0, 227.0, 146.0)\n",
      "(135.0, 195.0, 51.0, 31.0, 104.0, 212.0, 0.0, 129.0, 174.0, 85.0, 26.0, 118.0, 157.0, 206.0, 157.0, 201.0, 176.0, 173.0, 141.0, 67.0, 19.0, 79.0)\n",
      "(132.0, 73.0, 78.0, 124.0, 119.0, 126.0, 129.0, 0.0, 92.0, 65.0, 153.0, 115.0, 84.0, 80.0, 35.0, 73.0, 47.0, 118.0, 55.0, 98.0, 136.0, 113.0)\n",
      "(85.0, 64.0, 130.0, 152.0, 97.0, 38.0, 174.0, 92.0, 0.0, 90.0, 200.0, 82.0, 17.0, 82.0, 66.0, 120.0, 89.0, 36.0, 39.0, 112.0, 189.0, 111.0)\n",
      "(79.0, 114.0, 42.0, 67.0, 57.0, 128.0, 85.0, 65.0, 90.0, 0.0, 111.0, 59.0, 73.0, 128.0, 80.0, 137.0, 106.0, 95.0, 57.0, 33.0, 99.0, 48.0)\n",
      "(158.0, 220.0, 76.0, 52.0, 126.0, 238.0, 26.0, 153.0, 200.0, 111.0, 0.0, 141.0, 183.0, 231.0, 182.0, 224.0, 201.0, 198.0, 167.0, 91.0, 19.0, 102.0)\n",
      "(20.0, 135.0, 94.0, 88.0, 17.0, 112.0, 118.0, 115.0, 82.0, 59.0, 141.0, 0.0, 67.0, 153.0, 114.0, 177.0, 142.0, 63.0, 75.0, 52.0, 137.0, 39.0)\n",
      "(73.0, 71.0, 114.0, 135.0, 82.0, 54.0, 157.0, 84.0, 17.0, 73.0, 183.0, 67.0, 0.0, 90.0, 64.0, 123.0, 89.0, 35.0, 28.0, 95.0, 172.0, 95.0)\n",
      "(162.0, 18.0, 154.0, 195.0, 164.0, 92.0, 206.0, 80.0, 82.0, 128.0, 231.0, 153.0, 90.0, 0.0, 49.0, 47.0, 35.0, 119.0, 79.0, 161.0, 214.0, 169.0)\n",
      "(127.0, 39.0, 105.0, 146.0, 122.0, 95.0, 157.0, 35.0, 66.0, 80.0, 182.0, 114.0, 64.0, 49.0, 0.0, 62.0, 28.0, 99.0, 40.0, 113.0, 166.0, 124.0)\n",
      "(190.0, 60.0, 151.0, 197.0, 184.0, 137.0, 201.0, 73.0, 120.0, 137.0, 224.0, 177.0, 123.0, 47.0, 62.0, 0.0, 34.0, 156.0, 102.0, 170.0, 206.0, 183.0)\n",
      "(156.0, 37.0, 125.0, 169.0, 151.0, 110.0, 176.0, 47.0, 89.0, 106.0, 201.0, 142.0, 89.0, 35.0, 28.0, 34.0, 0.0, 123.0, 68.0, 139.0, 183.0, 151.0)\n",
      "(58.0, 101.0, 137.0, 147.0, 80.0, 51.0, 173.0, 118.0, 36.0, 95.0, 198.0, 63.0, 35.0, 119.0, 99.0, 156.0, 123.0, 0.0, 63.0, 106.0, 190.0, 100.0)\n",
      "(87.0, 62.0, 94.0, 123.0, 85.0, 77.0, 141.0, 55.0, 39.0, 57.0, 167.0, 75.0, 28.0, 79.0, 40.0, 102.0, 68.0, 63.0, 0.0, 85.0, 154.0, 91.0)\n",
      "(71.0, 146.0, 46.0, 40.0, 40.0, 148.0, 67.0, 98.0, 112.0, 33.0, 91.0, 52.0, 95.0, 161.0, 113.0, 170.0, 139.0, 106.0, 85.0, 0.0, 85.0, 20.0)\n",
      "(154.0, 205.0, 61.0, 51.0, 123.0, 227.0, 19.0, 136.0, 189.0, 99.0, 19.0, 137.0, 172.0, 214.0, 166.0, 206.0, 183.0, 190.0, 154.0, 85.0, 0.0, 98.0)\n",
      "(55.0, 153.0, 66.0, 49.0, 24.0, 146.0, 79.0, 113.0, 111.0, 48.0, 102.0, 39.0, 95.0, 169.0, 124.0, 183.0, 151.0, 100.0, 91.0, 20.0, 98.0, 0.0)\n"
     ]
    }
   ],
   "source": [
    "print(*distance, sep='\\n')"
   ]
  },
  {
   "cell_type": "code",
   "execution_count": 29,
   "metadata": {},
   "outputs": [],
   "source": [
    "# https://github.com/chncyhn/simulated-annealing-tsp\n",
    "\n",
    "def plotTSP(paths, points, num_iters=1):\n",
    "\n",
    "    \"\"\"\n",
    "    path: List of lists with the different orders in which the nodes are visited\n",
    "    points: coordinates for the different nodes\n",
    "    num_iters: number of paths that are in the path list\n",
    "    \"\"\"\n",
    "\n",
    "    # Unpack the primary TSP path and transform it into a list of ordered\n",
    "    # coordinates\n",
    "\n",
    "    x, y = [], []\n",
    "    for i in paths[0]:\n",
    "        x.append(points[i][0])\n",
    "        y.append(points[i][1])\n",
    "\n",
    "    plt.plot(x, y, 'co')\n",
    "\n",
    "    # Set a scale for the arrow heads (there should be a reasonable default for this, WTF?)\n",
    "    a_scale = float(max(x))/float(100)\n",
    "\n",
    "    # Draw the older paths, if provided\n",
    "    if num_iters > 1:\n",
    "\n",
    "        for i in range(1, num_iters):\n",
    "\n",
    "            # Transform the old paths into a list of coordinates\n",
    "            xi, yi = [], []\n",
    "            for j in paths[i]:\n",
    "                xi.append(points[j][0])\n",
    "                yi.append(points[j][1])\n",
    "\n",
    "            plt.arrow(xi[-1], yi[-1], (xi[0] - xi[-1]), (yi[0] - yi[-1]),\n",
    "                    head_width = a_scale, color = 'r',\n",
    "                    length_includes_head = True, ls = 'dashed',\n",
    "                    width = 0.001/float(num_iters))\n",
    "            for i in range(0, len(x) - 1):\n",
    "                plt.arrow(xi[i], yi[i], (xi[i+1] - xi[i]), (yi[i+1] - yi[i]),\n",
    "                        head_width = a_scale, color = 'r', length_includes_head = True,\n",
    "                        ls = 'dashed', width = 0.001/float(num_iters))\n",
    "\n",
    "    # Draw the primary path for the TSP problem\n",
    "    plt.arrow(x[-1], y[-1], (x[0] - x[-1]), (y[0] - y[-1]), head_width = a_scale,\n",
    "            color ='g', length_includes_head=True)\n",
    "    for i in range(0,len(x)-1):\n",
    "        plt.arrow(x[i], y[i], (x[i+1] - x[i]), (y[i+1] - y[i]), head_width = a_scale,\n",
    "                color = 'g', length_includes_head = True)\n",
    "\n",
    "    #Set axis too slitghtly larger than the set of x and y\n",
    "    plt.xlim(min(x)*1.1, max(x)*1.1)\n",
    "    plt.ylim(min(y)*1.1, max(y)*1.1)\n",
    "    plt.show()\n"
   ]
  },
  {
   "cell_type": "code",
   "execution_count": 47,
   "metadata": {},
   "outputs": [],
   "source": [
    "import math\n",
    "import random\n",
    "\n",
    "\n",
    "class SimAnneal(object):\n",
    "    def __init__(self, coords, T=-1, alpha=-1, stopping_T=-1, stopping_iter=-1):\n",
    "        self.coords = coords\n",
    "        self.N = len(coords)\n",
    "        self.T = math.sqrt(self.N) if T == -1 else T\n",
    "        self.T_save = self.T  # save inital T to reset if batch annealing is used\n",
    "        self.alpha = 0.995 if alpha == -1 else alpha\n",
    "        self.stopping_temperature = 1e-8 if stopping_T == -1 else stopping_T\n",
    "        self.stopping_iter = 100000 if stopping_iter == -1 else stopping_iter\n",
    "        self.iteration = 1\n",
    "\n",
    "        self.nodes = [i for i in range(self.N)]\n",
    "\n",
    "        self.best_solution = None\n",
    "        self.best_fitness = float(\"Inf\")\n",
    "        self.fitness_list = []\n",
    "\n",
    "    def initial_solution(self):\n",
    "        \"\"\"\n",
    "        Greedy algorithm to get an initial solution (closest-neighbour).\n",
    "        \"\"\"\n",
    "        cur_node = random.choice(self.nodes)  # start from a random node\n",
    "        solution = [cur_node]\n",
    "\n",
    "        free_nodes = set(self.nodes)\n",
    "        free_nodes.remove(cur_node)\n",
    "        while free_nodes:\n",
    "            next_node = random.choice(list(free_nodes))  \n",
    "            free_nodes.remove(next_node)\n",
    "            solution.append(next_node)\n",
    "            cur_node = next_node\n",
    "\n",
    "        cur_fit = self.fitness(solution)\n",
    "        if cur_fit < self.best_fitness:  # If best found so far, update best fitness\n",
    "            self.best_fitness = cur_fit\n",
    "            self.best_solution = solution\n",
    "        self.fitness_list.append(cur_fit)\n",
    "        return solution, cur_fit\n",
    "        \n",
    "    def dist(self, node_0, node_1):\n",
    "        \"\"\"\n",
    "        Euclidean distance between two nodes.\n",
    "        \"\"\"\n",
    "        coord_0, coord_1 = self.coords[node_0], self.coords[node_1]\n",
    "        return math.sqrt((coord_0[0] - coord_1[0]) ** 2 + (coord_0[1] - coord_1[1]) ** 2)\n",
    "\n",
    "    def fitness(self, solution):\n",
    "        \"\"\"\n",
    "        Total distance of the current solution path.\n",
    "        \"\"\"\n",
    "        cur_fit = 0\n",
    "        for i in range(self.N):\n",
    "            cur_fit += self.dist(solution[i % self.N], solution[(i + 1) % self.N])\n",
    "        return cur_fit\n",
    "\n",
    "    def p_accept(self, candidate_fitness):\n",
    "        \"\"\"\n",
    "        Probability of accepting if the candidate is worse than current.\n",
    "        Depends on the current temperature and difference between candidate and current.\n",
    "        \"\"\"\n",
    "        return math.exp(-abs(candidate_fitness - self.cur_fitness) / self.T)\n",
    "\n",
    "    def accept(self, candidate):\n",
    "        \"\"\"\n",
    "        Accept with probability 1 if candidate is better than current.\n",
    "        Accept with probabilty p_accept(..) if candidate is worse.\n",
    "        \"\"\"\n",
    "        candidate_fitness = self.fitness(candidate)\n",
    "        if candidate_fitness < self.cur_fitness:\n",
    "            self.cur_fitness, self.cur_solution = candidate_fitness, candidate\n",
    "            if candidate_fitness < self.best_fitness:\n",
    "                self.best_fitness, self.best_solution = candidate_fitness, candidate\n",
    "        else:\n",
    "            if random.random() < self.p_accept(candidate_fitness):\n",
    "                self.cur_fitness, self.cur_solution = candidate_fitness, candidate\n",
    "\n",
    "    def anneal(self):\n",
    "        \"\"\"\n",
    "        Execute simulated annealing algorithm.\n",
    "        \"\"\"\n",
    "        # Initialize with the greedy solution.\n",
    "        self.cur_solution, self.cur_fitness = self.initial_solution()\n",
    "\n",
    "        print(\"Starting annealing.\")\n",
    "        while self.T >= self.stopping_temperature and self.iteration < self.stopping_iter:\n",
    "            candidate = list(self.cur_solution)\n",
    "            l = random.randint(2, self.N - 1)\n",
    "            i = random.randint(0, self.N - l)\n",
    "            candidate[i : (i + l)] = reversed(candidate[i : (i + l)])\n",
    "            self.accept(candidate)\n",
    "            self.T *= self.alpha\n",
    "            self.iteration += 1\n",
    "\n",
    "            self.fitness_list.append(self.cur_fitness)\n",
    "\n",
    "        print(\"Best fitness obtained: \", self.best_fitness)\n",
    "\n",
    "\n",
    "    def visualize_routes(self):\n",
    "        \"\"\"\n",
    "        Visualize the TSP route with matplotlib.\n",
    "        \"\"\"\n",
    "        plotTSP([self.best_solution], self.coords)\n"
   ]
  },
  {
   "cell_type": "code",
   "execution_count": null,
   "metadata": {},
   "outputs": [],
   "source": []
  },
  {
   "cell_type": "code",
   "execution_count": 48,
   "metadata": {},
   "outputs": [
    {
     "name": "stdout",
     "output_type": "stream",
     "text": [
      "Starting annealing.\n",
      "Best fitness obtained:  2291.953287336668\n"
     ]
    },
    {
     "data": {
      "image/png": "[encoded data removed]",
      "text/plain": [
       "<Figure size 432x288 with 1 Axes>"
      ]
     },
     "metadata": {
      "needs_background": "light"
     },
     "output_type": "display_data"
    }
   ],
   "source": [
    "sa = SimAnneal(XY, stopping_iter=0)\n",
    "sa.anneal()\n",
    "sa.visualize_routes()"
   ]
  },
  {
   "cell_type": "code",
   "execution_count": 49,
   "metadata": {},
   "outputs": [
    {
     "name": "stdout",
     "output_type": "stream",
     "text": [
      "Starting annealing.\n",
      "Best fitness obtained:  821.0666865322274\n"
     ]
    },
    {
     "data": {
      "image/png": "[encoded data removed]",
      "text/plain": [
       "<Figure size 432x288 with 1 Axes>"
      ]
     },
     "metadata": {
      "needs_background": "light"
     },
     "output_type": "display_data"
    }
   ],
   "source": [
    "sa = SimAnneal(XY, stopping_iter=5000)\n",
    "sa.anneal()\n",
    "sa.visualize_routes()"
   ]
  }
 ],
 "metadata": {
  "interpreter": {
   "hash": "be649d6ca0cbb8aff5bd83e550ffcae4425bb10820653d740b3bc491245419a1"
  },
  "kernelspec": {
   "display_name": "Python 3.8.8 64-bit ('base': conda)",
   "name": "python3"
  },
  "language_info": {
   "codemirror_mode": {
    "name": "ipython",
    "version": 3
   },
   "file_extension": ".py",
   "mimetype": "text/x-python",
   "name": "python",
   "nbconvert_exporter": "python",
   "pygments_lexer": "ipython3",
   "version": "3.8.8"
  },
  "orig_nbformat": 4
 },
 "nbformat": 4,
 "nbformat_minor": 2
}
