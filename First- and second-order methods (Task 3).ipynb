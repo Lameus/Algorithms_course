{
 "cells": [
  {
   "cell_type": "code",
   "execution_count": 1,
   "id": "sublime-things",
   "metadata": {},
   "outputs": [],
   "source": [
    "import numpy as np\n",
    "from random import random\n",
    "import matplotlib.pyplot as plt\n",
    "import scipy\n",
    "from tqdm import tqdm"
   ]
  },
  {
   "cell_type": "code",
   "execution_count": 2,
   "id": "mechanical-dealing",
   "metadata": {},
   "outputs": [],
   "source": [
    "alpha = random()\n",
    "beta = random()\n",
    "x = np.arange(0, 1, 0.01)"
   ]
  },
  {
   "cell_type": "code",
   "execution_count": 3,
   "id": "twenty-reservation",
   "metadata": {},
   "outputs": [],
   "source": [
    "y = [alpha * i + beta + random() for i in x]"
   ]
  },
  {
   "cell_type": "code",
   "execution_count": 4,
   "id": "bulgarian-forward",
   "metadata": {},
   "outputs": [],
   "source": [
    "def f_linear(x, a, b):\n",
    "    return a * x + b"
   ]
  },
  {
   "cell_type": "code",
   "execution_count": 5,
   "id": "grave-script",
   "metadata": {},
   "outputs": [],
   "source": [
    "def f_rational(x, a, b):\n",
    "    return a / (1 + b * x)"
   ]
  },
  {
   "cell_type": "code",
   "execution_count": 100,
   "id": "silent-sailing",
   "metadata": {},
   "outputs": [],
   "source": [
    "def least_square_1(ab):\n",
    "    a, b = ab\n",
    "    global x, y\n",
    "    global f_linear\n",
    "    return np.sum(2 * x * (f_linear(x, a, b) - y) + 2 * (f_linear(x, a, b) - y)) # derivative\n",
    "    "
   ]
  },
  {
   "cell_type": "markdown",
   "metadata": {},
   "source": [
    "## Linear"
   ]
  },
  {
   "cell_type": "markdown",
   "metadata": {},
   "source": [
    "#### Gradient Descent\n"
   ]
  },
  {
   "cell_type": "code",
   "execution_count": 101,
   "metadata": {},
   "outputs": [],
   "source": [
    "def gradient_desc_linear(x, y):\n",
    "    eval = 0\n",
    "    a = 0 \n",
    "    b = 0 \n",
    "\n",
    "    L = 0.001 \n",
    "    epochs = 100000 \n",
    "\n",
    "    n = int(len(x))\n",
    "\n",
    "    for i in range(epochs): \n",
    "        Y_pred = a*x + b  # The current predicted value of Y\n",
    "        D_m = (-2/n) * sum(x * (y - Y_pred))  # Derivative wrt m\n",
    "        D_c = (-2/n) * sum(y - Y_pred)  # Derivative wrt c\n",
    "        a = a - L * D_m  # Update a\n",
    "        b = b - L * D_c  # Update b\n",
    "        eval += 5\n",
    "        diff = least_square_1((a, b))\n",
    "        if np.all(np.abs(diff) <= 1/(epochs)):\n",
    "            print(\"Criterion stop, iterations = \", i)\n",
    "            print(\"Function evaluations = \", eval)\n",
    "            break\n",
    "        \n",
    "    return a, b"
   ]
  },
  {
   "cell_type": "code",
   "execution_count": 98,
   "metadata": {},
   "outputs": [
    {
     "name": "stdout",
     "output_type": "stream",
     "text": [
      "Criterion stop, iterations =  80521\n",
      "Function evaluations =  402610\n"
     ]
    }
   ],
   "source": [
    "a_, b_ = gradient_desc_linear(x,y)"
   ]
  },
  {
   "cell_type": "code",
   "execution_count": 133,
   "metadata": {},
   "outputs": [
    {
     "data": {
      "text/plain": [
       "(0.7228510144111928, 1.5251430143759919)"
      ]
     },
     "execution_count": 133,
     "metadata": {},
     "output_type": "execute_result"
    }
   ],
   "source": [
    "a_, b_"
   ]
  },
  {
   "cell_type": "markdown",
   "metadata": {},
   "source": [
    "#### Conjugate Gradient"
   ]
  },
  {
   "cell_type": "code",
   "execution_count": 53,
   "metadata": {},
   "outputs": [],
   "source": [
    "def least_square(ab, x, y):\n",
    "    a, b = ab\n",
    "    J = (((a*x + b) - y)**2).sum()\n",
    "    return J"
   ]
  },
  {
   "cell_type": "code",
   "execution_count": 54,
   "metadata": {},
   "outputs": [],
   "source": [
    "res = scipy.optimize.minimize(least_square, [alpha, beta], args=(x, y), method='CG')"
   ]
  },
  {
   "cell_type": "code",
   "execution_count": 58,
   "metadata": {},
   "outputs": [
    {
     "data": {
      "text/plain": [
       "     fun: 8.333876191024814\n",
       "     jac: array([3.57627869e-07, 1.19209290e-06])\n",
       " message: 'Optimization terminated successfully.'\n",
       "    nfev: 15\n",
       "     nit: 2\n",
       "    njev: 5\n",
       "  status: 0\n",
       " success: True\n",
       "       x: array([0.72284942, 1.52514386])"
      ]
     },
     "execution_count": 58,
     "metadata": {},
     "output_type": "execute_result"
    }
   ],
   "source": [
    "res"
   ]
  },
  {
   "cell_type": "code",
   "execution_count": 62,
   "metadata": {},
   "outputs": [],
   "source": [
    "a_1, b_1 = res.x"
   ]
  },
  {
   "cell_type": "markdown",
   "metadata": {},
   "source": [
    "### LM method"
   ]
  },
  {
   "cell_type": "code",
   "execution_count": 59,
   "metadata": {},
   "outputs": [],
   "source": [
    "from scipy.optimize import curve_fit"
   ]
  },
  {
   "cell_type": "code",
   "execution_count": 15,
   "metadata": {},
   "outputs": [],
   "source": [
    "res_lm_curve, pcov = curve_fit(f_linear, x, y, method='lm')"
   ]
  },
  {
   "cell_type": "code",
   "execution_count": 60,
   "metadata": {},
   "outputs": [],
   "source": [
    "a_2, b_2 = res_lm_curve"
   ]
  },
  {
   "cell_type": "markdown",
   "metadata": {},
   "source": [
    "#### BFGS"
   ]
  },
  {
   "cell_type": "code",
   "execution_count": 63,
   "metadata": {},
   "outputs": [
    {
     "data": {
      "text/plain": [
       "      fun: 8.333876191024812\n",
       " hess_inv: array([[ 0.7839761 , -0.41162802],\n",
       "       [-0.41162802,  0.2211847 ]])\n",
       "      jac: array([7.15255737e-07, 9.53674316e-07])\n",
       "  message: 'Optimization terminated successfully.'\n",
       "     nfev: 15\n",
       "      nit: 2\n",
       "     njev: 5\n",
       "   status: 0\n",
       "  success: True\n",
       "        x: array([0.72284942, 1.52514386])"
      ]
     },
     "execution_count": 63,
     "metadata": {},
     "output_type": "execute_result"
    }
   ],
   "source": [
    "res = minimize(least_square, [alpha, beta], args=(x, y), method='BFGS')\n",
    "res"
   ]
  },
  {
   "cell_type": "code",
   "execution_count": 64,
   "metadata": {},
   "outputs": [],
   "source": [
    "a_3, b_3 = res.x"
   ]
  },
  {
   "cell_type": "code",
   "execution_count": 18,
   "metadata": {},
   "outputs": [],
   "source": [
    "res_lm_curve_rat, pcov = curve_fit(f_rational, x, y, method='lm')"
   ]
  },
  {
   "cell_type": "code",
   "execution_count": 19,
   "metadata": {},
   "outputs": [
    {
     "data": {
      "text/plain": [
       "array([ 1.57791599, -0.3086097 ])"
      ]
     },
     "execution_count": 19,
     "metadata": {},
     "output_type": "execute_result"
    }
   ],
   "source": [
    "res_lm_curve_rat"
   ]
  },
  {
   "cell_type": "code",
   "execution_count": 75,
   "metadata": {},
   "outputs": [
    {
     "data": {
      "image/png": "[encoded data removed]",
      "text/plain": [
       "<Figure size 864x720 with 1 Axes>"
      ]
     },
     "metadata": {
      "needs_background": "light"
     },
     "output_type": "display_data"
    }
   ],
   "source": [
    "plt.figure(figsize=(12,10))\n",
    "plt.scatter(x, y, label='Generated data') \n",
    "plt.plot(x, f_linear(x, a_, b_), '-', label='GD: fit: a=%5.5f, b=%5.5f' % (a_, b_))\n",
    "plt.plot(x, f_linear(x, a_1, b_1), '-', label='ConG: fit: a=%5.5f, b=%5.5f' % (a_1, b_1))\n",
    "plt.plot(x, f_linear(x, a_2, b_2), '-', label='LM: fit: a=%5.5f, b=%5.5f' % (a_2, b_2))\n",
    "plt.plot(x, f_linear(x, a_3, b_3), '-', label='BFGS: fit: a=%5.5f, b=%5.5f' % (a_3, b_3))\n",
    "plt.legend()\n",
    "plt.show()"
   ]
  },
  {
   "cell_type": "markdown",
   "metadata": {},
   "source": [
    "## Rational"
   ]
  },
  {
   "cell_type": "code",
   "execution_count": 83,
   "metadata": {},
   "outputs": [],
   "source": [
    "def least_square_rat(ab, x, y):\n",
    "    a, b = ab\n",
    "    J = (((a / (1 + b*x)) - y)**2).sum()\n",
    "    return J"
   ]
  },
  {
   "cell_type": "code",
   "execution_count": 102,
   "metadata": {},
   "outputs": [],
   "source": [
    "def gradient_desc_rat(x, y):\n",
    "    m = 0 \n",
    "    c = 0 \n",
    "\n",
    "    L = 0.001 \n",
    "    epochs = 100000 \n",
    "\n",
    "    n = int(len(x))\n",
    "\n",
    "    for i in range(epochs): \n",
    "        Y_pred = m / (1 + x * c) # The current predicted value of Y\n",
    "        D_c = sum( -2*m*x*(m-y*(c*x+1)) / (c*x+1)**3)\n",
    "        D_m = sum( - 2 *(c * x *y -m + y ) / (c*x + 1)**2)\n",
    "        m = m - L * D_m\n",
    "        c = c - L * D_c\n",
    "        diff = least_square_1((m, c))\n",
    "        if np.all(np.abs(diff) <= 1/(epochs)):\n",
    "            print(\"Criterion stop, iterations = \", i)\n",
    "            print(\"Function evaluations = \", eval)\n",
    "            break\n",
    "        \n",
    "    return m, c"
   ]
  },
  {
   "cell_type": "code",
   "execution_count": 134,
   "metadata": {},
   "outputs": [],
   "source": [
    "m_, c_ = gradient_desc_rat(x, y)"
   ]
  },
  {
   "cell_type": "code",
   "execution_count": 135,
   "metadata": {},
   "outputs": [
    {
     "data": {
      "text/plain": [
       "(1.5779171086381767, -0.3086087076180443)"
      ]
     },
     "execution_count": 135,
     "metadata": {},
     "output_type": "execute_result"
    }
   ],
   "source": [
    "m_,c_"
   ]
  },
  {
   "cell_type": "markdown",
   "metadata": {},
   "source": [
    "### CG"
   ]
  },
  {
   "cell_type": "code",
   "execution_count": 104,
   "metadata": {},
   "outputs": [],
   "source": [
    "res = scipy.optimize.minimize(least_square_rat, [alpha, beta], args=(x, y), method='CG')"
   ]
  },
  {
   "cell_type": "code",
   "execution_count": 106,
   "metadata": {},
   "outputs": [
    {
     "data": {
      "text/plain": [
       "     fun: 8.478494050761\n",
       "     jac: array([-3.57627869e-07,  2.74181366e-06])\n",
       " message: 'Optimization terminated successfully.'\n",
       "    nfev: 99\n",
       "     nit: 13\n",
       "    njev: 33\n",
       "  status: 0\n",
       " success: True\n",
       "       x: array([ 1.57791707, -0.30860874])"
      ]
     },
     "execution_count": 106,
     "metadata": {},
     "output_type": "execute_result"
    }
   ],
   "source": [
    "res"
   ]
  },
  {
   "cell_type": "code",
   "execution_count": 105,
   "metadata": {},
   "outputs": [],
   "source": [
    "m_1, c_1 = res.x"
   ]
  },
  {
   "cell_type": "code",
   "execution_count": 110,
   "metadata": {},
   "outputs": [
    {
     "data": {
      "text/plain": [
       "(1.5779170671471576, -0.30860873643997067)"
      ]
     },
     "execution_count": 110,
     "metadata": {},
     "output_type": "execute_result"
    }
   ],
   "source": [
    "m_1, c_1"
   ]
  },
  {
   "cell_type": "markdown",
   "metadata": {},
   "source": [
    "### LM"
   ]
  },
  {
   "cell_type": "code",
   "execution_count": 107,
   "metadata": {},
   "outputs": [],
   "source": [
    "res_lm_curve, pcov = curve_fit(f_rational, x, y, method='lm')"
   ]
  },
  {
   "cell_type": "code",
   "execution_count": 108,
   "metadata": {},
   "outputs": [],
   "source": [
    "m_2, c_2 = res_lm_curve"
   ]
  },
  {
   "cell_type": "code",
   "execution_count": 111,
   "metadata": {},
   "outputs": [
    {
     "data": {
      "text/plain": [
       "(1.5779159877519227, -0.3086097006965194)"
      ]
     },
     "execution_count": 111,
     "metadata": {},
     "output_type": "execute_result"
    }
   ],
   "source": [
    "m_2, c_2"
   ]
  },
  {
   "cell_type": "markdown",
   "metadata": {},
   "source": [
    "### BFGS"
   ]
  },
  {
   "cell_type": "code",
   "execution_count": 112,
   "metadata": {},
   "outputs": [
    {
     "data": {
      "text/plain": [
       "      fun: 8.478494050761089\n",
       " hess_inv: array([[0.01329359, 0.0087152 ],\n",
       "       [0.0087152 , 0.00776436]])\n",
       "      jac: array([-2.38418579e-07,  1.19209290e-07])\n",
       "  message: 'Optimization terminated successfully.'\n",
       "     nfev: 54\n",
       "      nit: 11\n",
       "     njev: 18\n",
       "   status: 0\n",
       "  success: True\n",
       "        x: array([ 1.57791705, -0.30860876])"
      ]
     },
     "execution_count": 112,
     "metadata": {},
     "output_type": "execute_result"
    }
   ],
   "source": [
    "res = minimize(least_square_rat, [alpha, beta], args=(x, y), method='BFGS')\n",
    "res"
   ]
  },
  {
   "cell_type": "code",
   "execution_count": 113,
   "metadata": {},
   "outputs": [],
   "source": [
    "m_3, c_3 = res.x"
   ]
  },
  {
   "cell_type": "code",
   "execution_count": 114,
   "metadata": {},
   "outputs": [
    {
     "data": {
      "image/png": "[encoded data removed]",
      "text/plain": [
       "<Figure size 864x720 with 1 Axes>"
      ]
     },
     "metadata": {
      "needs_background": "light"
     },
     "output_type": "display_data"
    }
   ],
   "source": [
    "plt.figure(figsize=(12,10))\n",
    "plt.scatter(x, y, label='Generated data') \n",
    "plt.plot(x, f_rational(x, m_, c_), '-', label='GD: fit: a=%5.5f, b=%5.5f' % (a_, b_))\n",
    "plt.plot(x, f_rational(x, m_1, c_1), '-', label='ConG: fit: a=%5.5f, b=%5.5f' % (a_1, b_1))\n",
    "plt.plot(x, f_rational(x, m_2, c_2), '-', label='LM: fit: a=%5.5f, b=%5.5f' % (a_2, b_2))\n",
    "plt.plot(x, f_rational(x, m_3, c_3), '-', label='BFGS: fit: a=%5.5f, b=%5.5f' % (a_3, b_3))\n",
    "plt.legend()\n",
    "plt.show()"
   ]
  },
  {
   "cell_type": "code",
   "execution_count": 125,
   "metadata": {},
   "outputs": [],
   "source": [
    "def f_r(ab):\n",
    "    global x\n",
    "    global y\n",
    "    a,b = ab\n",
    "    return (a / (1 + b * x)) - y"
   ]
  },
  {
   "cell_type": "code",
   "execution_count": null,
   "metadata": {},
   "outputs": [],
   "source": []
  },
  {
   "cell_type": "code",
   "execution_count": 126,
   "metadata": {},
   "outputs": [],
   "source": [
    "res_lm = scipy.optimize.least_squares(f_r, [alpha, beta], method='lm')"
   ]
  },
  {
   "cell_type": "code",
   "execution_count": 129,
   "metadata": {},
   "outputs": [
    {
     "data": {
      "text/plain": [
       " active_mask: array([0, 0])\n",
       "        cost: 4.2392470253807675\n",
       "         fun: array([ 0.10010823, -0.02763126,  0.53467267, -0.12920089,  0.0064793 ,\n",
       "        0.2347382 , -0.08453832, -0.23749149, -0.24444613,  0.23573527,\n",
       "       -0.37240425,  0.24414798,  0.31605213, -0.2172832 ,  0.0778123 ,\n",
       "       -0.02725058, -0.11648272,  0.08306992,  0.37350331,  0.42431395,\n",
       "       -0.39543011,  0.18958254, -0.16504215,  0.43530095,  0.1851235 ,\n",
       "        0.34326258,  0.18019089, -0.38868832, -0.00475674, -0.18381074,\n",
       "        0.171581  , -0.080476  , -0.41748543,  0.09470255,  0.3310871 ,\n",
       "       -0.26020242, -0.06347255,  0.20337171, -0.3138944 ,  0.08390102,\n",
       "        0.53223502,  0.42018752, -0.03351441, -0.37486972,  0.23690004,\n",
       "       -0.34621611, -0.40671839, -0.33081152, -0.40079024, -0.28196032,\n",
       "        0.33490755, -0.1088548 , -0.46808296,  0.50970758,  0.23584932,\n",
       "       -0.46218712,  0.36918977, -0.14253953, -0.37708782,  0.50638651,\n",
       "       -0.37194317, -0.26449268, -0.27506702, -0.15882469,  0.07363463,\n",
       "       -0.28012191, -0.18919188, -0.13740026, -0.3502691 ,  0.46707531,\n",
       "       -0.40151526,  0.47390566, -0.10362753, -0.03260276,  0.32386173,\n",
       "        0.05630325,  0.27486735, -0.18260424, -0.02520562,  0.37102746,\n",
       "       -0.2641321 , -0.02106247,  0.46408792, -0.29685749,  0.1613527 ,\n",
       "       -0.40984285,  0.1918862 , -0.09968536, -0.44127407,  0.432006  ,\n",
       "        0.143143  , -0.14761051, -0.04763246, -0.22200545, -0.07183103,\n",
       "        0.24170147, -0.38490142,  0.32024485,  0.32540241,  0.37659903])\n",
       "        grad: array([-2.41916398e-09,  6.25170756e-06])\n",
       "         jac: array([[ 1.        ,  0.        ],\n",
       "       [ 1.00309564, -0.01587702],\n",
       "       [ 1.0062105 , -0.03195155],\n",
       "       [ 1.00934477, -0.04822637],\n",
       "       [ 1.01249863, -0.06470429],\n",
       "       [ 1.01567226, -0.08138819],\n",
       "       [ 1.01886585, -0.09828098],\n",
       "       [ 1.02207958, -0.11538562],\n",
       "       [ 1.02531365, -0.13270512],\n",
       "       [ 1.02856825, -0.15024255],\n",
       "       [ 1.03184358, -0.16800103],\n",
       "       [ 1.03513984, -0.18598373],\n",
       "       [ 1.03845722, -0.20419386],\n",
       "       [ 1.04179594, -0.22263472],\n",
       "       [ 1.04515619, -0.24130962],\n",
       "       [ 1.04853819, -0.26022198],\n",
       "       [ 1.05194214, -0.27937524],\n",
       "       [ 1.05536828, -0.2987729 ],\n",
       "       [ 1.0588168 , -0.31841855],\n",
       "       [ 1.06228793, -0.33831582],\n",
       "       [ 1.06578189, -0.35846841],\n",
       "       [ 1.06929892, -0.37888007],\n",
       "       [ 1.07283923, -0.39955465],\n",
       "       [ 1.07640307, -0.42049604],\n",
       "       [ 1.07999066, -0.44170819],\n",
       "       [ 1.08360225, -0.46319516],\n",
       "       [ 1.08723807, -0.48496105],\n",
       "       [ 1.09089837, -0.50701005],\n",
       "       [ 1.0945834 , -0.5293464 ],\n",
       "       [ 1.09829341, -0.55197444],\n",
       "       [ 1.10202866, -0.5748986 ],\n",
       "       [ 1.1057894 , -0.59812335],\n",
       "       [ 1.1095759 , -0.62165327],\n",
       "       [ 1.11338841, -0.64549302],\n",
       "       [ 1.11722722, -0.66964734],\n",
       "       [ 1.12109259, -0.69412106],\n",
       "       [ 1.1249848 , -0.7189191 ],\n",
       "       [ 1.12890413, -0.74404647],\n",
       "       [ 1.13285086, -0.76950827],\n",
       "       [ 1.13682529, -0.79530969],\n",
       "       [ 1.1408277 , -0.82145603],\n",
       "       [ 1.1448584 , -0.84795268],\n",
       "       [ 1.14891767, -0.87480514],\n",
       "       [ 1.15300584, -0.902019  ],\n",
       "       [ 1.1571232 , -0.92959996],\n",
       "       [ 1.16127008, -0.95755383],\n",
       "       [ 1.16544678, -0.98588654],\n",
       "       [ 1.16965364, -1.01460413],\n",
       "       [ 1.17389097, -1.04371273],\n",
       "       [ 1.17815913, -1.07321862],\n",
       "       [ 1.18245843, -1.10312818],\n",
       "       [ 1.18678922, -1.13344794],\n",
       "       [ 1.19115185, -1.16418452],\n",
       "       [ 1.19554668, -1.1953447 ],\n",
       "       [ 1.19997406, -1.22693538],\n",
       "       [ 1.20443435, -1.25896358],\n",
       "       [ 1.20892792, -1.29143649],\n",
       "       [ 1.21345514, -1.32436143],\n",
       "       [ 1.2180164 , -1.35774585],\n",
       "       [ 1.22261208, -1.39159736],\n",
       "       [ 1.22724258, -1.42592372],\n",
       "       [ 1.23190828, -1.46073285],\n",
       "       [ 1.23660959, -1.49603283],\n",
       "       [ 1.24134692, -1.53183189],\n",
       "       [ 1.24612069, -1.56813844],\n",
       "       [ 1.25093131, -1.60496106],\n",
       "       [ 1.25577923, -1.6423085 ],\n",
       "       [ 1.26066486, -1.68018968],\n",
       "       [ 1.26558866, -1.71861373],\n",
       "       [ 1.27055107, -1.75758994],\n",
       "       [ 1.27555255, -1.79712782],\n",
       "       [ 1.28059356, -1.83723704],\n",
       "       [ 1.28567458, -1.87792751],\n",
       "       [ 1.29079607, -1.91920933],\n",
       "       [ 1.29595853, -1.9610928 ],\n",
       "       [ 1.30116245, -2.00358847],\n",
       "       [ 1.30640834, -2.04670708],\n",
       "       [ 1.31169669, -2.09045962],\n",
       "       [ 1.31702803, -2.13485731],\n",
       "       [ 1.32240289, -2.1799116 ],\n",
       "       [ 1.32782179, -2.2256342 ],\n",
       "       [ 1.33328529, -2.27203705],\n",
       "       [ 1.33879394, -2.31913239],\n",
       "       [ 1.34434829, -2.36693268],\n",
       "       [ 1.34994893, -2.41545069],\n",
       "       [ 1.35559642, -2.46469944],\n",
       "       [ 1.36129136, -2.51469226],\n",
       "       [ 1.36703436, -2.56544276],\n",
       "       [ 1.37282602, -2.61696486],\n",
       "       [ 1.37866696, -2.66927278],\n",
       "       [ 1.38455782, -2.72238108],\n",
       "       [ 1.39049923, -2.77630462],\n",
       "       [ 1.39649186, -2.83105861],\n",
       "       [ 1.40253636, -2.8866586 ],\n",
       "       [ 1.40863342, -2.9431205 ],\n",
       "       [ 1.41478372, -3.00046058],\n",
       "       [ 1.42098795, -3.05869548],\n",
       "       [ 1.42724685, -3.11784222],\n",
       "       [ 1.43356112, -3.17791823],\n",
       "       [ 1.43993151, -3.23894133]])\n",
       "     message: '`ftol` termination condition is satisfied.'\n",
       "        nfev: 23\n",
       "        njev: None\n",
       "  optimality: 6.2517075571921765e-06\n",
       "      status: 2\n",
       "     success: True\n",
       "           x: array([ 1.57791722, -0.30860861])"
      ]
     },
     "execution_count": 129,
     "metadata": {},
     "output_type": "execute_result"
    }
   ],
   "source": [
    "res_lm"
   ]
  },
  {
   "cell_type": "code",
   "execution_count": 130,
   "metadata": {},
   "outputs": [],
   "source": [
    "def f_l(ab):\n",
    "    global x\n",
    "    global y\n",
    "    a,b = ab\n",
    "    return (a*x + b) - y"
   ]
  },
  {
   "cell_type": "code",
   "execution_count": 131,
   "metadata": {},
   "outputs": [],
   "source": [
    "res_lm_lin = scipy.optimize.least_squares(f_l, [alpha, beta], method='lm')"
   ]
  },
  {
   "cell_type": "code",
   "execution_count": 132,
   "metadata": {},
   "outputs": [
    {
     "data": {
      "text/plain": [
       " active_mask: array([0, 0])\n",
       "        cost: 4.166938095512405\n",
       "         fun: array([ 0.04733488, -0.07806077,  0.48655664, -0.17503404, -0.03710188,\n",
       "        0.1933778 , -0.12370945, -0.27450513, -0.27933437,  0.20294003,\n",
       "       -0.40313919,  0.21544031,  0.2893384 , -0.24203665,  0.05498514,\n",
       "       -0.04818576, -0.13556057,  0.06581442,  0.35803481,  0.41059679,\n",
       "       -0.40743196,  0.17925961, -0.17372292,  0.42822525,  0.17961537,\n",
       "        0.33928416,  0.17770393, -0.38972244, -0.00437704, -0.18205663,\n",
       "        0.1746697 , -0.07609295, -0.41184866,  0.10155198,  0.3391077 ,\n",
       "       -0.25105256, -0.05323578,  0.2146526 , -0.30161264,  0.09713995,\n",
       "        0.54638698,  0.43520787, -0.01767077, -0.35824838,  0.25425303,\n",
       "       -0.32817805, -0.38804233, -0.31154504, -0.38098143, -0.26165781,\n",
       "        0.35565461, -0.08771288, -0.44659642,  0.53148794,  0.25787214,\n",
       "       -0.43997377,  0.39154113, -0.12010326, -0.35462035,  0.52883087,\n",
       "       -0.34957685, -0.24225995, -0.25302408, -0.13702837,  0.09512682,\n",
       "       -0.25899199, -0.16848307, -0.11717209, -0.33058178,  0.48616085,\n",
       "       -0.38309314,  0.49160197, -0.08672014, -0.01654818,  0.33899888,\n",
       "        0.07045753,  0.28797256, -0.17061512, -0.01440042,  0.38058007,\n",
       "       -0.25590157, -0.0142244 ,  0.4694623 , -0.29301893,  0.16358242,\n",
       "       -0.40929592,  0.19067547, -0.10272956, -0.44622854,  0.4250635 ,\n",
       "        0.13413371, -0.15876637, -0.06101569, -0.23769791, -0.08991565,\n",
       "        0.22114068, -0.40802349,  0.29447527,  0.29689792,  0.34527108])\n",
       "        grad: array([1.07150654e-08, 3.26531870e-08])\n",
       "         jac: array([[0.  , 1.  ],\n",
       "       [0.01, 1.  ],\n",
       "       [0.02, 1.  ],\n",
       "       [0.03, 1.  ],\n",
       "       [0.04, 1.  ],\n",
       "       [0.05, 1.  ],\n",
       "       [0.06, 1.  ],\n",
       "       [0.07, 1.  ],\n",
       "       [0.08, 1.  ],\n",
       "       [0.09, 1.  ],\n",
       "       [0.1 , 1.  ],\n",
       "       [0.11, 1.  ],\n",
       "       [0.12, 1.  ],\n",
       "       [0.13, 1.  ],\n",
       "       [0.14, 1.  ],\n",
       "       [0.15, 1.  ],\n",
       "       [0.16, 1.  ],\n",
       "       [0.17, 1.  ],\n",
       "       [0.18, 1.  ],\n",
       "       [0.19, 1.  ],\n",
       "       [0.2 , 1.  ],\n",
       "       [0.21, 1.  ],\n",
       "       [0.22, 1.  ],\n",
       "       [0.23, 1.  ],\n",
       "       [0.24, 1.  ],\n",
       "       [0.25, 1.  ],\n",
       "       [0.26, 1.  ],\n",
       "       [0.27, 1.  ],\n",
       "       [0.28, 1.  ],\n",
       "       [0.29, 1.  ],\n",
       "       [0.3 , 1.  ],\n",
       "       [0.31, 1.  ],\n",
       "       [0.32, 1.  ],\n",
       "       [0.33, 1.  ],\n",
       "       [0.34, 1.  ],\n",
       "       [0.35, 1.  ],\n",
       "       [0.36, 1.  ],\n",
       "       [0.37, 1.  ],\n",
       "       [0.38, 1.  ],\n",
       "       [0.39, 1.  ],\n",
       "       [0.4 , 1.  ],\n",
       "       [0.41, 1.  ],\n",
       "       [0.42, 1.  ],\n",
       "       [0.43, 1.  ],\n",
       "       [0.44, 1.  ],\n",
       "       [0.45, 1.  ],\n",
       "       [0.46, 1.  ],\n",
       "       [0.47, 1.  ],\n",
       "       [0.48, 1.  ],\n",
       "       [0.49, 1.  ],\n",
       "       [0.5 , 1.  ],\n",
       "       [0.51, 1.  ],\n",
       "       [0.52, 1.  ],\n",
       "       [0.53, 1.  ],\n",
       "       [0.54, 1.  ],\n",
       "       [0.55, 1.  ],\n",
       "       [0.56, 1.  ],\n",
       "       [0.57, 1.  ],\n",
       "       [0.58, 1.  ],\n",
       "       [0.59, 1.  ],\n",
       "       [0.6 , 1.  ],\n",
       "       [0.61, 1.  ],\n",
       "       [0.62, 1.  ],\n",
       "       [0.63, 1.  ],\n",
       "       [0.64, 1.  ],\n",
       "       [0.65, 1.  ],\n",
       "       [0.66, 1.  ],\n",
       "       [0.67, 1.  ],\n",
       "       [0.68, 1.  ],\n",
       "       [0.69, 1.  ],\n",
       "       [0.7 , 1.  ],\n",
       "       [0.71, 1.  ],\n",
       "       [0.72, 1.  ],\n",
       "       [0.73, 1.  ],\n",
       "       [0.74, 1.  ],\n",
       "       [0.75, 1.  ],\n",
       "       [0.76, 1.  ],\n",
       "       [0.77, 1.  ],\n",
       "       [0.78, 1.  ],\n",
       "       [0.79, 1.  ],\n",
       "       [0.8 , 1.  ],\n",
       "       [0.81, 1.  ],\n",
       "       [0.82, 1.  ],\n",
       "       [0.83, 1.  ],\n",
       "       [0.84, 1.  ],\n",
       "       [0.85, 1.  ],\n",
       "       [0.86, 1.  ],\n",
       "       [0.87, 1.  ],\n",
       "       [0.88, 1.  ],\n",
       "       [0.89, 1.  ],\n",
       "       [0.9 , 1.  ],\n",
       "       [0.91, 1.  ],\n",
       "       [0.92, 1.  ],\n",
       "       [0.93, 1.  ],\n",
       "       [0.94, 1.  ],\n",
       "       [0.95, 1.  ],\n",
       "       [0.96, 1.  ],\n",
       "       [0.97, 1.  ],\n",
       "       [0.98, 1.  ],\n",
       "       [0.99, 1.  ]])\n",
       "     message: '`gtol` termination condition is satisfied.'\n",
       "        nfev: 6\n",
       "        njev: None\n",
       "  optimality: 3.265318704315234e-08\n",
       "      status: 1\n",
       "     success: True\n",
       "           x: array([0.7228494 , 1.52514387])"
      ]
     },
     "execution_count": 132,
     "metadata": {},
     "output_type": "execute_result"
    }
   ],
   "source": [
    "res_lm_lin"
   ]
  }
 ],
 "metadata": {
  "interpreter": {
   "hash": "be649d6ca0cbb8aff5bd83e550ffcae4425bb10820653d740b3bc491245419a1"
  },
  "kernelspec": {
   "display_name": "Python 3.8.8 64-bit ('base': conda)",
   "name": "python3"
  },
  "language_info": {
   "codemirror_mode": {
    "name": "ipython",
    "version": 3
   },
   "file_extension": ".py",
   "mimetype": "text/x-python",
   "name": "python",
   "nbconvert_exporter": "python",
   "pygments_lexer": "ipython3",
   "version": "3.8.8"
  }
 },
 "nbformat": 4,
 "nbformat_minor": 5
}
